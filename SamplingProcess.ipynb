{
 "cells": [
  {
   "cell_type": "markdown",
   "metadata": {
    "deletable": true,
    "editable": true
   },
   "source": [
    "# GitHub Repo Selection Process"
   ]
  },
  {
   "cell_type": "code",
   "execution_count": 1,
   "metadata": {
    "collapsed": true,
    "deletable": true,
    "editable": true
   },
   "outputs": [],
   "source": [
    "import pandas as pd\n",
    "import random\n",
    "from github import Github\n",
    "import pickle\n",
    "import sqlite3 as sql\n",
    "from datetime import datetime\n",
    "import time\n",
    "\n",
    "g = Github('nicholas-alonzo', '')"
   ]
  },
  {
   "cell_type": "markdown",
   "metadata": {
    "deletable": true,
    "editable": true
   },
   "source": [
    "## Root Repo Conditions\n",
    "\n",
    "Sample ~100 repos with the following conditions\n",
    "\n",
    "- Is not by an organization\n",
    "- Created on 2016-01-01 and/or later\n",
    "- Is in English (manually check)\n",
    "- Has no activity before 2016-01-01 (manually check their activity on GitHub)\n",
    "- Has at least 2 contributors to date\n",
    "- Has at least 50 forks to date\n",
    "- Size of repo is >= 10 KB\n",
    "- Has issues\n",
    "- is not a github.io project\n",
    "- Has a language\n",
    "- Has at least 100 stars to date (a way of showing \"popularity\")\n",
    "- The repo was updated sometime after 2016-12-31 (shows its still in use)"
   ]
  },
  {
   "cell_type": "code",
   "execution_count": 78,
   "metadata": {
    "collapsed": false,
    "deletable": true,
    "editable": true
   },
   "outputs": [],
   "source": [
    "# THIS WAS RUN MAY 11TH 2017 ~ 4:26 PM PST\n",
    "# NOTE: this will return the first 1000 results as stated in the search API documentation \n",
    "# however we use the slicing as asking for more than 1000 will return an error \n",
    "# Also note that the sort updated desc will give us repos that were updated as of today\n",
    "repos = g.search_repositories(query='created:>=2016-01-01 size:>=10 forks:>=100 stars:>=100', sort='updated', order='desc')\n",
    "\n",
    "reposL = []\n",
    "for repo in repos[:1000]:\n",
    "    reposL.append(repo)"
   ]
  },
  {
   "cell_type": "code",
   "execution_count": 4,
   "metadata": {
    "collapsed": false,
    "deletable": true,
    "editable": true
   },
   "outputs": [
    {
     "data": {
      "text/plain": [
       "900"
      ]
     },
     "execution_count": 4,
     "metadata": {},
     "output_type": "execute_result"
    }
   ],
   "source": [
    "len(reposL)"
   ]
  },
  {
   "cell_type": "code",
   "execution_count": 8,
   "metadata": {
    "collapsed": true,
    "deletable": true,
    "editable": true
   },
   "outputs": [],
   "source": [
    "repos_subL = []\n",
    "\n",
    "for repo in reposL:\n",
    "    user_count = 0\n",
    "    cond1 = repo.organization\n",
    "    cond2 = repo.pushed_at >= pd.to_datetime('2016-12-31')\n",
    "    cond3 = repo.language\n",
    "    cond4 = repo.has_issues\n",
    "    if not cond1 and cond2 and cond3 and cond4:\n",
    "        for user in repo.get_contributors():\n",
    "            user_count += 1\n",
    "            if user_count >= 2:\n",
    "                repos_subL.append(repo)\n",
    "                break\n",
    "            else:\n",
    "                pass\n",
    "    else:\n",
    "        pass"
   ]
  },
  {
   "cell_type": "code",
   "execution_count": 11,
   "metadata": {
    "collapsed": false,
    "deletable": true,
    "editable": true
   },
   "outputs": [
    {
     "data": {
      "text/plain": [
       "301"
      ]
     },
     "execution_count": 11,
     "metadata": {},
     "output_type": "execute_result"
    }
   ],
   "source": [
    "len(repos_subL)"
   ]
  },
  {
   "cell_type": "markdown",
   "metadata": {
    "deletable": true,
    "editable": true
   },
   "source": [
    "### Save the potential repos "
   ]
  },
  {
   "cell_type": "code",
   "execution_count": 12,
   "metadata": {
    "collapsed": false,
    "deletable": true,
    "editable": true
   },
   "outputs": [
    {
     "data": {
      "text/plain": [
       "301"
      ]
     },
     "execution_count": 12,
     "metadata": {},
     "output_type": "execute_result"
    }
   ],
   "source": [
    "# pickle.dump( repos_subL, open( \"repos.p\", \"wb\" ) )\n",
    "\n",
    "L = pickle.load( open( \"repos.p\", \"rb\" ) )\n",
    "len(L)"
   ]
  },
  {
   "cell_type": "markdown",
   "metadata": {
    "deletable": true,
    "editable": true
   },
   "source": [
    "### Make sure no repos are repeated"
   ]
  },
  {
   "cell_type": "code",
   "execution_count": 13,
   "metadata": {
    "collapsed": false,
    "deletable": true,
    "editable": true
   },
   "outputs": [
    {
     "data": {
      "text/plain": [
       "284"
      ]
     },
     "execution_count": 13,
     "metadata": {},
     "output_type": "execute_result"
    }
   ],
   "source": [
    "S = set()\n",
    "for repos in L:\n",
    "    S.add(repos.full_name)\n",
    "len(S)"
   ]
  },
  {
   "cell_type": "markdown",
   "metadata": {
    "deletable": true,
    "editable": true
   },
   "source": [
    "## Sample 100 repos\n",
    "\n",
    "Here we'll have to check maunally that the repos\n",
    "- are in English\n",
    "- have no activity before 2016-01-01\n",
    "\n",
    "### Run 1"
   ]
  },
  {
   "cell_type": "code",
   "execution_count": 14,
   "metadata": {
    "collapsed": true,
    "deletable": true,
    "editable": true
   },
   "outputs": [
    {
     "name": "stdout",
     "output_type": "stream",
     "text": [
      "https://github.com/mchristopher/PokemonGo-DesktopMap/graphs/contributors\n",
      "https://github.com/Medicean/VulApps/graphs/contributors\n",
      "https://github.com/ashqal/MD360Player4iOS/graphs/contributors\n",
      "https://github.com/pchmn/MaterialChipsInput/graphs/contributors\n",
      "https://github.com/eliangcs/http-prompt/graphs/contributors\n",
      "https://github.com/a466350665/smart/graphs/contributors\n",
      "https://github.com/sindresorhus/refined-github/graphs/contributors\n",
      "https://github.com/florent37/DiagonalLayout/graphs/contributors\n",
      "https://github.com/endernewton/tf-faster-rcnn/graphs/contributors\n",
      "https://github.com/DaveGamble/cJSON/graphs/contributors\n",
      "https://github.com/Codeido/PMAlertController/graphs/contributors\n",
      "https://github.com/mvantellingen/python-zeep/graphs/contributors\n",
      "https://github.com/aritraroy/UltimateAndroidReference/graphs/contributors\n",
      "https://github.com/ciar4n/imagehover.css/graphs/contributors\n",
      "https://github.com/fenbf/AwesomePerfCpp/graphs/contributors\n",
      "https://github.com/jopohl/urh/graphs/contributors\n",
      "https://github.com/sjdy521/Mojo-Weixin/graphs/contributors\n",
      "https://github.com/VoLuong/Awesome-Linux-Software/graphs/contributors\n",
      "https://github.com/geeeeeeeeek/electronic-wechat/graphs/contributors\n",
      "https://github.com/kennethreitz/pipenv/graphs/contributors\n",
      "https://github.com/patchthecode/JTAppleCalendar/graphs/contributors\n",
      "https://github.com/dternyak/React-Redux-Flask/graphs/contributors\n",
      "https://github.com/lzjun567/zhihu-api/graphs/contributors\n",
      "https://github.com/ro31337/libretaxi/graphs/contributors\n",
      "https://github.com/nacker/LZEasemob3/graphs/contributors\n",
      "https://github.com/squidfunk/mkdocs-material/graphs/contributors\n",
      "https://github.com/Urinx/WeixinBot/graphs/contributors\n",
      "https://github.com/daijifeng001/R-FCN/graphs/contributors\n",
      "https://github.com/jaywcjlove/linux-command/graphs/contributors\n",
      "https://github.com/EyreFree/EFQRCode/graphs/contributors\n",
      "https://github.com/afollestad/polar-dashboard/graphs/contributors\n",
      "https://github.com/Yorko/mlcourse_open/graphs/contributors\n",
      "https://github.com/BeauNouvelle/FaceAware/graphs/contributors\n",
      "https://github.com/cookkkie/mee6/graphs/contributors\n",
      "https://github.com/viosey/hexo-theme-material/graphs/contributors\n",
      "https://github.com/liuwons/wxBot/graphs/contributors\n",
      "https://github.com/LukyVj/family.scss/graphs/contributors\n",
      "https://github.com/tencent-wechat/phxsql/graphs/contributors\n",
      "https://github.com/w0rp/ale/graphs/contributors\n",
      "https://github.com/photonstorm/phaser-ce/graphs/contributors\n",
      "https://github.com/ashqal/MD360Player4Android/graphs/contributors\n",
      "https://github.com/terkelg/ramme/graphs/contributors\n",
      "https://github.com/Binaryify/NeteaseCloudMusicApi/graphs/contributors\n",
      "https://github.com/XProger/OpenLara/graphs/contributors\n",
      "https://github.com/sohutv/cachecloud/graphs/contributors\n",
      "https://github.com/kitze/sizzy/graphs/contributors\n",
      "https://github.com/sumory/orange/graphs/contributors\n",
      "https://github.com/Roshanjossey/first-contributions/graphs/contributors\n",
      "https://github.com/TadasBaltrusaitis/OpenFace/graphs/contributors\n",
      "https://github.com/zyedidia/micro/graphs/contributors\n",
      "https://github.com/airyland/vux/graphs/contributors\n",
      "https://github.com/hwdsl2/setup-ipsec-vpn/graphs/contributors\n",
      "https://github.com/verekia/js-stack-from-scratch/graphs/contributors\n",
      "https://github.com/JeffreyWay/laravel-mix/graphs/contributors\n",
      "https://github.com/jwilm/alacritty/graphs/contributors\n",
      "https://github.com/arterli/CmsWing/graphs/contributors\n",
      "https://github.com/dherault/serverless-offline/graphs/contributors\n",
      "https://github.com/jcjohnson/torch-rnn/graphs/contributors\n",
      "https://github.com/mhinz/vim-galore/graphs/contributors\n",
      "https://github.com/jaywcjlove/awesome-mac/graphs/contributors\n",
      "https://github.com/xiongwilee/koa-grace/graphs/contributors\n",
      "https://github.com/junyanz/pytorch-CycleGAN-and-pix2pix/graphs/contributors\n",
      "https://github.com/misterch0c/shadowbroker/graphs/contributors\n",
      "https://github.com/ivpusic/react-native-image-crop-picker/graphs/contributors\n",
      "https://github.com/fancymax/12306ForMac/graphs/contributors\n",
      "https://github.com/zsdonghao/tensorlayer/graphs/contributors\n",
      "https://github.com/jeasonlzy/NineGridView/graphs/contributors\n",
      "https://github.com/ianstormtaylor/slate/graphs/contributors\n",
      "https://github.com/smallnest/rpcx/graphs/contributors\n",
      "https://github.com/BurntSushi/ripgrep/graphs/contributors\n",
      "https://github.com/amitshekhariitbhu/Fast-Android-Networking/graphs/contributors\n",
      "https://github.com/logaretm/vee-validate/graphs/contributors\n",
      "https://github.com/Plailect/Guide/graphs/contributors\n",
      "https://github.com/florent37/ExpectAnim/graphs/contributors\n",
      "https://github.com/jinfagang/weibo_terminater/graphs/contributors\n",
      "https://github.com/FezVrasta/popper.js/graphs/contributors\n",
      "https://github.com/fchollet/deep-learning-models/graphs/contributors\n",
      "https://github.com/aurelhubert/ahbottomnavigation/graphs/contributors\n",
      "https://github.com/codeestX/GeekNews/graphs/contributors\n",
      "https://github.com/summerblue/phphub5/graphs/contributors\n",
      "https://github.com/dgrtwo/tidy-text-mining/graphs/contributors\n",
      "https://github.com/BrikerMan/BMPlayer/graphs/contributors\n",
      "https://github.com/kvangent/PokeAlarm/graphs/contributors\n",
      "https://github.com/CharlesShang/FastMaskRCNN/graphs/contributors\n",
      "https://github.com/jcjohnson/cnn-benchmarks/graphs/contributors\n",
      "https://github.com/garretyoder/Colorful/graphs/contributors\n",
      "https://github.com/BradLarson/GPUImage2/graphs/contributors\n",
      "https://github.com/wufeifei/cobra/graphs/contributors\n",
      "https://github.com/jpuri/react-draft-wysiwyg/graphs/contributors\n",
      "https://github.com/emeryberger/CSrankings/graphs/contributors\n",
      "https://github.com/carlos8f/zenbot/graphs/contributors\n",
      "https://github.com/yscoder/hexo-theme-indigo/graphs/contributors\n",
      "https://github.com/ewhal/nyaa/graphs/contributors\n",
      "https://github.com/donnemartin/system-design-primer/graphs/contributors\n",
      "https://github.com/Bottelet/Flarepoint-crm/graphs/contributors\n",
      "https://github.com/notwaldorf/tiny-care-terminal/graphs/contributors\n",
      "https://github.com/soeaver/caffe-model/graphs/contributors\n",
      "https://github.com/evollu/react-native-fcm/graphs/contributors\n",
      "https://github.com/Maratyszcza/NNPACK/graphs/contributors\n",
      "https://github.com/zhaohaodang/vue-WeChat/graphs/contributors\n"
     ]
    }
   ],
   "source": [
    "random.seed(32824)\n",
    "rsamp = random.sample(S, 100)\n",
    "\n",
    "for repo in rsamp:\n",
    "    print 'https://github.com/'+ repo + '/graphs/contributors'"
   ]
  },
  {
   "cell_type": "markdown",
   "metadata": {
    "deletable": true,
    "editable": true
   },
   "source": [
    "From checking manually, we dont include the following \n",
    "\n",
    "- Medicean/VulApps\n",
    "- ashqal/MD360Player4Android\n",
    "- a466350665/smart\n",
    "- DaveGamble/cJSON\n",
    "- sjdy521/Mojo-Weixin\n",
    "- lzjun567/zhihu-api\n",
    "- nacker/LZEasemob3\n",
    "- Urinx/WeixinBot\n",
    "- jaywcjlove/linux-command\n",
    "- Yorko/mlcourse_open\n",
    "- viosey/hexo-theme-material\n",
    "- liuwons/wxBot\n",
    "- tencent-wechat/phxsql\n",
    "- photonstorm/phaser-ce\n",
    "- ashqal/MD360Player4Android\n",
    "- Binaryify/NeteaseCloudMusicApi\n",
    "- sohutv/cachecloud\n",
    "- sumory/orange\n",
    "- airyland/vux\n",
    "- hwdsl2/setup-ipsec-vpn\n",
    "- arterli/CmsWing\n",
    "- jaywcjlove/awesome-mac\n",
    "- xiongwilee/koa-grace\n",
    "- fancymax/12306ForMac\n",
    "- jeasonlzy/NineGridView\n",
    "- jinfagang/weibo_terminater\n",
    "- codeestX/GeekNews\n",
    "- summerblue/phphub5\n",
    "- dgrtwo/tidy-text-mining\n",
    "- BrikerMan/BMPlayer\n",
    "- wufeifei/cobra\n",
    "- yscoder/hexo-theme-indigo\n",
    "- zhaohaodang/vue-WeChat"
   ]
  },
  {
   "cell_type": "code",
   "execution_count": 15,
   "metadata": {
    "collapsed": true,
    "deletable": true,
    "editable": true
   },
   "outputs": [],
   "source": [
    "run1_exclude = ['Medicean/VulApps', 'ashqal/MD360Player4Android', 'a466350665/smart', \n",
    "                'DaveGamble/cJSON', 'sjdy521/Mojo-Weixin', 'lzjun567/zhihu-api', 'nacker/LZEasemob3',\n",
    "                'Urinx/WeixinBot', 'jaywcjlove/linux-command', 'Yorko/mlcourse_open', 'viosey/hexo-theme-material',\n",
    "                'liuwons/wxBot', 'tencent-wechat/phxsql', 'photonstorm/phaser-ce', 'ashqal/MD360Player4Android'\n",
    "                'Binaryify/NeteaseCloudMusicApi', 'sohutv/cachecloud', 'sumory/orange', 'airyland/vux',\n",
    "                'hwdsl2/setup-ipsec-vpn','arterli/CmsWing','jaywcjlove/awesome-mac','xiongwilee/koa-grace',\n",
    "                'fancymax/12306ForMac','jeasonlzy/NineGridView','jinfagang/weibo_terminater',\n",
    "                'codeestX/GeekNews','summerblue/phphub5','dgrtwo/tidy-text-mining',\n",
    "                'BrikerMan/BMPlayer','wufeifei/cobra','yscoder/hexo-theme-indigo','zhaohaodang/vue-WeChat']\n",
    "\n",
    "include = filter(lambda x: x not in run1_exclude, rsamp)"
   ]
  },
  {
   "cell_type": "code",
   "execution_count": 16,
   "metadata": {
    "collapsed": false,
    "deletable": true,
    "editable": true
   },
   "outputs": [
    {
     "data": {
      "text/plain": [
       "69"
      ]
     },
     "execution_count": 16,
     "metadata": {},
     "output_type": "execute_result"
    }
   ],
   "source": [
    "len(include)"
   ]
  },
  {
   "cell_type": "code",
   "execution_count": 17,
   "metadata": {
    "collapsed": true,
    "deletable": true,
    "editable": true
   },
   "outputs": [],
   "source": [
    "S_final = set()\n",
    "\n",
    "for repo in include:\n",
    "    S_final.add(repo)"
   ]
  },
  {
   "cell_type": "markdown",
   "metadata": {
    "deletable": true,
    "editable": true
   },
   "source": [
    "### Run 2"
   ]
  },
  {
   "cell_type": "code",
   "execution_count": 18,
   "metadata": {
    "collapsed": true,
    "deletable": true,
    "editable": true
   },
   "outputs": [
    {
     "name": "stdout",
     "output_type": "stream",
     "text": [
      "https://github.com/sherxon/AlgoDS/graphs/contributors\n",
      "https://github.com/SimulatedGREG/electron-vue/graphs/contributors\n",
      "https://github.com/pandolia/qqbot/graphs/contributors\n",
      "https://github.com/SergioBenitez/Rocket/graphs/contributors\n",
      "https://github.com/vanniktech/Emoji/graphs/contributors\n",
      "https://github.com/liudongmiao/Brevent/graphs/contributors\n",
      "https://github.com/yoshuawuyts/choo/graphs/contributors\n",
      "https://github.com/ybq/Android-SpinKit/graphs/contributors\n",
      "https://github.com/learncodeacademy/react-js-tutorials/graphs/contributors\n",
      "https://github.com/viosey/hexo-theme-material/graphs/contributors\n",
      "https://github.com/alexellis/faas/graphs/contributors\n",
      "https://github.com/tqchen/tinyflow/graphs/contributors\n",
      "https://github.com/KunalKapadia/express-mongoose-es6-rest-api/graphs/contributors\n",
      "https://github.com/tencent-wechat/phxpaxos/graphs/contributors\n",
      "https://github.com/kpwn/iOSRE/graphs/contributors\n",
      "https://github.com/keon/algorithms/graphs/contributors\n",
      "https://github.com/nacker/LZEasemob3/graphs/contributors\n",
      "https://github.com/krzysztofzablocki/Sourcery/graphs/contributors\n",
      "https://github.com/jayfk/statuspage/graphs/contributors\n",
      "https://github.com/kevinhughes27/TensorKart/graphs/contributors\n",
      "https://github.com/huttarichard/instagram-private-api/graphs/contributors\n",
      "https://github.com/amitshekhariitbhu/Android-Debug-Database/graphs/contributors\n"
     ]
    }
   ],
   "source": [
    "random.seed(32)\n",
    "rsamp2 = filter(lambda x: x not in S_final, random.sample(S, 31))\n",
    "\n",
    "for repo in rsamp2:\n",
    "    print 'https://github.com/'+ repo + '/graphs/contributors'"
   ]
  },
  {
   "cell_type": "markdown",
   "metadata": {
    "deletable": true,
    "editable": true
   },
   "source": [
    "From checking manually, we dont include the following \n",
    "\n",
    "- pandolia/qqbot\n",
    "- viosey/hexo-theme-material\n",
    "- tencent-wechat/phxpaxos\n",
    "- nacker/LZEasemob3"
   ]
  },
  {
   "cell_type": "code",
   "execution_count": 19,
   "metadata": {
    "collapsed": true,
    "deletable": true,
    "editable": true
   },
   "outputs": [],
   "source": [
    "run2_exclude = ['pandolia/qqbot', 'viosey/hexo-theme-material','tencent-wechat/phxpaxos','nacker/LZEasemob3']\n",
    "\n",
    "include2 = filter(lambda x: x not in run2_exclude, rsamp2)\n",
    "\n",
    "for repos in include2:\n",
    "    S_final.add(repos)"
   ]
  },
  {
   "cell_type": "markdown",
   "metadata": {
    "deletable": true,
    "editable": true
   },
   "source": [
    "### Run 3"
   ]
  },
  {
   "cell_type": "code",
   "execution_count": 20,
   "metadata": {
    "collapsed": true,
    "deletable": true,
    "editable": true
   },
   "outputs": [
    {
     "name": "stdout",
     "output_type": "stream",
     "text": [
      "https://github.com/Miserlou/Zappa/graphs/contributors\n",
      "https://github.com/wkh237/react-native-fetch-blob/graphs/contributors\n",
      "https://github.com/uraimo/Awesome-Swift-Playgrounds/graphs/contributors\n",
      "https://github.com/fechanique/cordova-plugin-fcm/graphs/contributors\n",
      "https://github.com/We5ter/Scanners-Box/graphs/contributors\n",
      "https://github.com/kdchang/reactjs101/graphs/contributors\n",
      "https://github.com/xubinux/xbin-store/graphs/contributors\n",
      "https://github.com/eggswift/ESTabBarController/graphs/contributors\n",
      "https://github.com/nosir/cleave.js/graphs/contributors\n"
     ]
    }
   ],
   "source": [
    "random.seed(33)\n",
    "rsamp3 = filter(lambda x: x not in S_final, random.sample(S, 13))\n",
    "\n",
    "for repo in rsamp3:\n",
    "    print 'https://github.com/'+ repo + '/graphs/contributors'"
   ]
  },
  {
   "cell_type": "markdown",
   "metadata": {
    "deletable": true,
    "editable": true
   },
   "source": [
    "From checking manually, we dont include the following\n",
    "\n",
    "- We5ter/Scanners-Box\n",
    "- kdchang/reactjs101\n",
    "- xubinux/xbin-store\n",
    "- eggswift/ESTabBarController"
   ]
  },
  {
   "cell_type": "code",
   "execution_count": 21,
   "metadata": {
    "collapsed": true,
    "deletable": true,
    "editable": true
   },
   "outputs": [],
   "source": [
    "run3_exclude = ['We5ter/Scanners-Box', 'kdchang/reactjs101', 'xubinux/xbin-store', 'eggswift/ESTabBarController']\n",
    "\n",
    "include3 = filter(lambda x: x not in run3_exclude, rsamp3)\n",
    "\n",
    "for repos in include3:\n",
    "    S_final.add(repos)"
   ]
  },
  {
   "cell_type": "markdown",
   "metadata": {
    "deletable": true,
    "editable": true
   },
   "source": [
    "### Run 4"
   ]
  },
  {
   "cell_type": "code",
   "execution_count": 22,
   "metadata": {
    "collapsed": false,
    "deletable": true,
    "editable": true
   },
   "outputs": [
    {
     "name": "stdout",
     "output_type": "stream",
     "text": [
      "https://github.com/AeonLucid/POGOProtos/graphs/contributors\n",
      "https://github.com/521xueweihan/HelloGitHub/graphs/contributors\n",
      "https://github.com/picturepan2/spectre/graphs/contributors\n",
      "https://github.com/sergiokopplin/indigo/graphs/contributors\n",
      "https://github.com/AWEEKJ/Kiko-plus/graphs/contributors\n",
      "https://github.com/thelong1EU/SpaceTabLayout/graphs/contributors\n"
     ]
    }
   ],
   "source": [
    "random.seed(123213)\n",
    "rsamp4 = filter(lambda x: x not in S_final, random.sample(S, 8))\n",
    "\n",
    "for repo in rsamp4:\n",
    "    print 'https://github.com/'+ repo + '/graphs/contributors'"
   ]
  },
  {
   "cell_type": "markdown",
   "metadata": {
    "deletable": true,
    "editable": true
   },
   "source": [
    "From checking manually, we dont include the following\n",
    "\n",
    "- 521xueweihan/HelloGitHub\n",
    "- AWEEKJ/Kiko-plus"
   ]
  },
  {
   "cell_type": "code",
   "execution_count": 23,
   "metadata": {
    "collapsed": true,
    "deletable": true,
    "editable": true
   },
   "outputs": [],
   "source": [
    "run4_exclude = ['521xueweihan/HelloGitHub', 'AWEEKJ/Kiko-plus']\n",
    "\n",
    "include4 = filter(lambda x: x not in run4_exclude, rsamp4)\n",
    "\n",
    "for repos in include4:\n",
    "    S_final.add(repos)"
   ]
  },
  {
   "cell_type": "markdown",
   "metadata": {
    "deletable": true,
    "editable": true
   },
   "source": [
    "### Run 5"
   ]
  },
  {
   "cell_type": "code",
   "execution_count": 24,
   "metadata": {
    "collapsed": false,
    "deletable": true,
    "editable": true
   },
   "outputs": [
    {
     "name": "stdout",
     "output_type": "stream",
     "text": [
      "https://github.com/transcranial/keras-js/graphs/contributors\n",
      "https://github.com/atomiks/tippyjs/graphs/contributors\n",
      "https://github.com/pubkey/rxdb/graphs/contributors\n"
     ]
    }
   ],
   "source": [
    "random.seed(32342438)\n",
    "rsamp5 = filter(lambda x: x not in S_final, random.sample(S, 4))\n",
    "\n",
    "for repo in rsamp5:\n",
    "    print 'https://github.com/'+ repo + '/graphs/contributors'"
   ]
  },
  {
   "cell_type": "code",
   "execution_count": 25,
   "metadata": {
    "collapsed": true,
    "deletable": true,
    "editable": true
   },
   "outputs": [],
   "source": [
    "for repos in rsamp5:\n",
    "    S_final.add(repos)"
   ]
  },
  {
   "cell_type": "code",
   "execution_count": 26,
   "metadata": {
    "collapsed": false,
    "deletable": true,
    "editable": true
   },
   "outputs": [
    {
     "data": {
      "text/plain": [
       "99"
      ]
     },
     "execution_count": 26,
     "metadata": {},
     "output_type": "execute_result"
    }
   ],
   "source": [
    "len(S_final)"
   ]
  },
  {
   "cell_type": "markdown",
   "metadata": {
    "deletable": true,
    "editable": true
   },
   "source": [
    "### Run 6"
   ]
  },
  {
   "cell_type": "code",
   "execution_count": 27,
   "metadata": {
    "collapsed": false,
    "deletable": true,
    "editable": true
   },
   "outputs": [
    {
     "name": "stdout",
     "output_type": "stream",
     "text": [
      "https://github.com/nfmcclure/tensorflow_cookbook/graphs/contributors\n"
     ]
    }
   ],
   "source": [
    "random.seed(98790)\n",
    "rsamp6 = filter(lambda x: x not in S_final, random.sample(S, 1))\n",
    "\n",
    "for repo in rsamp6:\n",
    "    print 'https://github.com/'+ repo + '/graphs/contributors'"
   ]
  },
  {
   "cell_type": "code",
   "execution_count": 28,
   "metadata": {
    "collapsed": false,
    "deletable": true,
    "editable": true
   },
   "outputs": [],
   "source": [
    "for repo in rsamp6:\n",
    "    S_final.add(repo)"
   ]
  },
  {
   "cell_type": "markdown",
   "metadata": {
    "deletable": true,
    "editable": true
   },
   "source": [
    "## Final root repos"
   ]
  },
  {
   "cell_type": "code",
   "execution_count": 29,
   "metadata": {
    "collapsed": true,
    "deletable": true,
    "editable": true
   },
   "outputs": [
    {
     "data": {
      "text/plain": [
       "{u'AeonLucid/POGOProtos',\n",
       " u'BeauNouvelle/FaceAware',\n",
       " u'Binaryify/NeteaseCloudMusicApi',\n",
       " u'Bottelet/Flarepoint-crm',\n",
       " u'BradLarson/GPUImage2',\n",
       " u'BurntSushi/ripgrep',\n",
       " u'CharlesShang/FastMaskRCNN',\n",
       " u'Codeido/PMAlertController',\n",
       " u'EyreFree/EFQRCode',\n",
       " u'FezVrasta/popper.js',\n",
       " u'JeffreyWay/laravel-mix',\n",
       " u'KunalKapadia/express-mongoose-es6-rest-api',\n",
       " u'LukyVj/family.scss',\n",
       " u'Maratyszcza/NNPACK',\n",
       " u'Miserlou/Zappa',\n",
       " u'Plailect/Guide',\n",
       " u'Roshanjossey/first-contributions',\n",
       " u'SergioBenitez/Rocket',\n",
       " u'SimulatedGREG/electron-vue',\n",
       " u'TadasBaltrusaitis/OpenFace',\n",
       " u'VoLuong/Awesome-Linux-Software',\n",
       " u'XProger/OpenLara',\n",
       " u'afollestad/polar-dashboard',\n",
       " u'alexellis/faas',\n",
       " u'amitshekhariitbhu/Android-Debug-Database',\n",
       " u'amitshekhariitbhu/Fast-Android-Networking',\n",
       " u'aritraroy/UltimateAndroidReference',\n",
       " u'ashqal/MD360Player4iOS',\n",
       " u'atomiks/tippyjs',\n",
       " u'aurelhubert/ahbottomnavigation',\n",
       " u'carlos8f/zenbot',\n",
       " u'ciar4n/imagehover.css',\n",
       " u'cookkkie/mee6',\n",
       " u'daijifeng001/R-FCN',\n",
       " u'dherault/serverless-offline',\n",
       " u'donnemartin/system-design-primer',\n",
       " u'dternyak/React-Redux-Flask',\n",
       " u'eliangcs/http-prompt',\n",
       " u'emeryberger/CSrankings',\n",
       " u'endernewton/tf-faster-rcnn',\n",
       " u'evollu/react-native-fcm',\n",
       " u'ewhal/nyaa',\n",
       " u'fchollet/deep-learning-models',\n",
       " u'fechanique/cordova-plugin-fcm',\n",
       " u'fenbf/AwesomePerfCpp',\n",
       " u'florent37/DiagonalLayout',\n",
       " u'florent37/ExpectAnim',\n",
       " u'garretyoder/Colorful',\n",
       " u'geeeeeeeeek/electronic-wechat',\n",
       " u'huttarichard/instagram-private-api',\n",
       " u'ianstormtaylor/slate',\n",
       " u'ivpusic/react-native-image-crop-picker',\n",
       " u'jayfk/statuspage',\n",
       " u'jcjohnson/cnn-benchmarks',\n",
       " u'jcjohnson/torch-rnn',\n",
       " u'jopohl/urh',\n",
       " u'jpuri/react-draft-wysiwyg',\n",
       " u'junyanz/pytorch-CycleGAN-and-pix2pix',\n",
       " u'jwilm/alacritty',\n",
       " u'kennethreitz/pipenv',\n",
       " u'keon/algorithms',\n",
       " u'kevinhughes27/TensorKart',\n",
       " u'kitze/sizzy',\n",
       " u'kpwn/iOSRE',\n",
       " u'krzysztofzablocki/Sourcery',\n",
       " u'kvangent/PokeAlarm',\n",
       " u'learncodeacademy/react-js-tutorials',\n",
       " u'liudongmiao/Brevent',\n",
       " u'logaretm/vee-validate',\n",
       " u'mchristopher/PokemonGo-DesktopMap',\n",
       " u'mhinz/vim-galore',\n",
       " u'misterch0c/shadowbroker',\n",
       " u'mvantellingen/python-zeep',\n",
       " u'nfmcclure/tensorflow_cookbook',\n",
       " u'nosir/cleave.js',\n",
       " u'notwaldorf/tiny-care-terminal',\n",
       " u'patchthecode/JTAppleCalendar',\n",
       " u'pchmn/MaterialChipsInput',\n",
       " u'picturepan2/spectre',\n",
       " u'pubkey/rxdb',\n",
       " u'ro31337/libretaxi',\n",
       " u'sergiokopplin/indigo',\n",
       " u'sherxon/AlgoDS',\n",
       " u'sindresorhus/refined-github',\n",
       " u'smallnest/rpcx',\n",
       " u'soeaver/caffe-model',\n",
       " u'squidfunk/mkdocs-material',\n",
       " u'terkelg/ramme',\n",
       " u'thelong1EU/SpaceTabLayout',\n",
       " u'tqchen/tinyflow',\n",
       " u'transcranial/keras-js',\n",
       " u'uraimo/Awesome-Swift-Playgrounds',\n",
       " u'vanniktech/Emoji',\n",
       " u'verekia/js-stack-from-scratch',\n",
       " u'w0rp/ale',\n",
       " u'wkh237/react-native-fetch-blob',\n",
       " u'ybq/Android-SpinKit',\n",
       " u'yoshuawuyts/choo',\n",
       " u'zsdonghao/tensorlayer',\n",
       " u'zyedidia/micro'}"
      ]
     },
     "execution_count": 29,
     "metadata": {},
     "output_type": "execute_result"
    }
   ],
   "source": [
    "S_final"
   ]
  },
  {
   "cell_type": "code",
   "execution_count": 30,
   "metadata": {
    "collapsed": true,
    "deletable": true,
    "editable": true
   },
   "outputs": [
    {
     "data": {
      "text/plain": [
       "[Repository(full_name=\"cookkkie/mee6\"),\n",
       " Repository(full_name=\"ro31337/libretaxi\"),\n",
       " Repository(full_name=\"krzysztofzablocki/Sourcery\"),\n",
       " Repository(full_name=\"terkelg/ramme\"),\n",
       " Repository(full_name=\"kevinhughes27/TensorKart\"),\n",
       " Repository(full_name=\"fenbf/AwesomePerfCpp\"),\n",
       " Repository(full_name=\"fechanique/cordova-plugin-fcm\"),\n",
       " Repository(full_name=\"soeaver/caffe-model\"),\n",
       " Repository(full_name=\"afollestad/polar-dashboard\"),\n",
       " Repository(full_name=\"ewhal/nyaa\"),\n",
       " Repository(full_name=\"garretyoder/Colorful\"),\n",
       " Repository(full_name=\"keon/algorithms\"),\n",
       " Repository(full_name=\"ianstormtaylor/slate\"),\n",
       " Repository(full_name=\"pubkey/rxdb\"),\n",
       " Repository(full_name=\"huttarichard/instagram-private-api\"),\n",
       " Repository(full_name=\"Plailect/Guide\"),\n",
       " Repository(full_name=\"notwaldorf/tiny-care-terminal\"),\n",
       " Repository(full_name=\"ivpusic/react-native-image-crop-picker\"),\n",
       " Repository(full_name=\"aritraroy/UltimateAndroidReference\"),\n",
       " Repository(full_name=\"tqchen/tinyflow\"),\n",
       " Repository(full_name=\"logaretm/vee-validate\"),\n",
       " Repository(full_name=\"sherxon/AlgoDS\"),\n",
       " Repository(full_name=\"fchollet/deep-learning-models\"),\n",
       " Repository(full_name=\"ashqal/MD360Player4iOS\"),\n",
       " Repository(full_name=\"jwilm/alacritty\"),\n",
       " Repository(full_name=\"Bottelet/Flarepoint-crm\"),\n",
       " Repository(full_name=\"squidfunk/mkdocs-material\"),\n",
       " Repository(full_name=\"BurntSushi/ripgrep\"),\n",
       " Repository(full_name=\"BradLarson/GPUImage2\"),\n",
       " Repository(full_name=\"VoLuong/Awesome-Linux-Software\"),\n",
       " Repository(full_name=\"atomiks/tippyjs\"),\n",
       " Repository(full_name=\"carlos8f/zenbot\"),\n",
       " Repository(full_name=\"verekia/js-stack-from-scratch\"),\n",
       " Repository(full_name=\"amitshekhariitbhu/Android-Debug-Database\"),\n",
       " Repository(full_name=\"emeryberger/CSrankings\"),\n",
       " Repository(full_name=\"mchristopher/PokemonGo-DesktopMap\"),\n",
       " Repository(full_name=\"jpuri/react-draft-wysiwyg\"),\n",
       " Repository(full_name=\"LukyVj/family.scss\"),\n",
       " Repository(full_name=\"AeonLucid/POGOProtos\"),\n",
       " Repository(full_name=\"evollu/react-native-fcm\"),\n",
       " Repository(full_name=\"TadasBaltrusaitis/OpenFace\"),\n",
       " Repository(full_name=\"transcranial/keras-js\"),\n",
       " Repository(full_name=\"eliangcs/http-prompt\"),\n",
       " Repository(full_name=\"learncodeacademy/react-js-tutorials\"),\n",
       " Repository(full_name=\"daijifeng001/R-FCN\"),\n",
       " Repository(full_name=\"endernewton/tf-faster-rcnn\"),\n",
       " Repository(full_name=\"Binaryify/NeteaseCloudMusicApi\"),\n",
       " Repository(full_name=\"kitze/sizzy\"),\n",
       " Repository(full_name=\"kvangent/PokeAlarm\"),\n",
       " Repository(full_name=\"SergioBenitez/Rocket\"),\n",
       " Repository(full_name=\"geeeeeeeeek/electronic-wechat\"),\n",
       " Repository(full_name=\"Roshanjossey/first-contributions\"),\n",
       " Repository(full_name=\"w0rp/ale\"),\n",
       " Repository(full_name=\"mvantellingen/python-zeep\"),\n",
       " Repository(full_name=\"kennethreitz/pipenv\"),\n",
       " Repository(full_name=\"pchmn/MaterialChipsInput\"),\n",
       " Repository(full_name=\"smallnest/rpcx\"),\n",
       " Repository(full_name=\"jcjohnson/torch-rnn\"),\n",
       " Repository(full_name=\"sergiokopplin/indigo\"),\n",
       " Repository(full_name=\"Codeido/PMAlertController\"),\n",
       " Repository(full_name=\"Miserlou/Zappa\"),\n",
       " Repository(full_name=\"uraimo/Awesome-Swift-Playgrounds\"),\n",
       " Repository(full_name=\"jayfk/statuspage\"),\n",
       " Repository(full_name=\"BeauNouvelle/FaceAware\"),\n",
       " Repository(full_name=\"wkh237/react-native-fetch-blob\"),\n",
       " Repository(full_name=\"donnemartin/system-design-primer\"),\n",
       " Repository(full_name=\"SimulatedGREG/electron-vue\"),\n",
       " Repository(full_name=\"junyanz/pytorch-CycleGAN-and-pix2pix\"),\n",
       " Repository(full_name=\"KunalKapadia/express-mongoose-es6-rest-api\"),\n",
       " Repository(full_name=\"florent37/ExpectAnim\"),\n",
       " Repository(full_name=\"kpwn/iOSRE\"),\n",
       " Repository(full_name=\"patchthecode/JTAppleCalendar\"),\n",
       " Repository(full_name=\"misterch0c/shadowbroker\"),\n",
       " Repository(full_name=\"nfmcclure/tensorflow_cookbook\"),\n",
       " Repository(full_name=\"thelong1EU/SpaceTabLayout\"),\n",
       " Repository(full_name=\"ciar4n/imagehover.css\"),\n",
       " Repository(full_name=\"sindresorhus/refined-github\"),\n",
       " Repository(full_name=\"aurelhubert/ahbottomnavigation\"),\n",
       " Repository(full_name=\"jopohl/urh\"),\n",
       " Repository(full_name=\"dherault/serverless-offline\"),\n",
       " Repository(full_name=\"amitshekhariitbhu/Fast-Android-Networking\"),\n",
       " Repository(full_name=\"liudongmiao/Brevent\"),\n",
       " Repository(full_name=\"JeffreyWay/laravel-mix\"),\n",
       " Repository(full_name=\"jcjohnson/cnn-benchmarks\"),\n",
       " Repository(full_name=\"zyedidia/micro\"),\n",
       " Repository(full_name=\"XProger/OpenLara\"),\n",
       " Repository(full_name=\"zsdonghao/tensorlayer\"),\n",
       " Repository(full_name=\"florent37/DiagonalLayout\"),\n",
       " Repository(full_name=\"dternyak/React-Redux-Flask\"),\n",
       " Repository(full_name=\"ybq/Android-SpinKit\"),\n",
       " Repository(full_name=\"picturepan2/spectre\"),\n",
       " Repository(full_name=\"nosir/cleave.js\"),\n",
       " Repository(full_name=\"yoshuawuyts/choo\"),\n",
       " Repository(full_name=\"alexellis/faas\"),\n",
       " Repository(full_name=\"EyreFree/EFQRCode\"),\n",
       " Repository(full_name=\"FezVrasta/popper.js\"),\n",
       " Repository(full_name=\"vanniktech/Emoji\"),\n",
       " Repository(full_name=\"Maratyszcza/NNPACK\"),\n",
       " Repository(full_name=\"mhinz/vim-galore\"),\n",
       " Repository(full_name=\"CharlesShang/FastMaskRCNN\")]"
      ]
     },
     "execution_count": 30,
     "metadata": {},
     "output_type": "execute_result"
    }
   ],
   "source": [
    "final_repos = []\n",
    "for repos in S_final:\n",
    "    final_repos.append(g.get_repo(str(repos), lazy=False))\n",
    "    \n",
    "final_repos"
   ]
  },
  {
   "cell_type": "code",
   "execution_count": 104,
   "metadata": {
    "collapsed": true,
    "deletable": true,
    "editable": true
   },
   "outputs": [],
   "source": [
    "# save the final_repos for reference\n",
    "# pickle.dump( final_repos, open( \"final_repos.p\", \"wb\" ) )"
   ]
  },
  {
   "cell_type": "markdown",
   "metadata": {
    "deletable": true,
    "editable": true
   },
   "source": [
    "## Requesting root repos and their forks"
   ]
  },
  {
   "cell_type": "code",
   "execution_count": null,
   "metadata": {
    "collapsed": true,
    "deletable": true,
    "editable": true
   },
   "outputs": [],
   "source": [
    "# load up the final_repos list\n",
    "# final_repos = pickle.load( open( \"final_repos.p\", \"rb\" ) )"
   ]
  },
  {
   "cell_type": "code",
   "execution_count": 2,
   "metadata": {
    "collapsed": false,
    "deletable": true,
    "editable": true
   },
   "outputs": [],
   "source": [
    "# dictionary data structure\n",
    "# repos_ds = {}"
   ]
  },
  {
   "cell_type": "code",
   "execution_count": null,
   "metadata": {
    "collapsed": true,
    "deletable": true,
    "editable": true
   },
   "outputs": [],
   "source": [
    "# load up the repos data structure to continue processing\n",
    "# repos_ds = pickle.load( open( \"repos_ds.p\", \"rb\" ) )"
   ]
  },
  {
   "cell_type": "code",
   "execution_count": 230,
   "metadata": {
    "collapsed": false,
    "deletable": true,
    "editable": true
   },
   "outputs": [
    {
     "name": "stdout",
     "output_type": "stream",
     "text": [
      "picturepan2/spectre\n",
      "nosir/cleave.js\n",
      "yoshuawuyts/choo\n",
      "alexellis/faas\n",
      "EyreFree/EFQRCode\n",
      "FezVrasta/popper.js\n",
      "vanniktech/Emoji\n",
      "Maratyszcza/NNPACK\n",
      "mhinz/vim-galore\n",
      "CharlesShang/FastMaskRCNN\n"
     ]
    }
   ],
   "source": [
    "for repo in final_repos:\n",
    "    \n",
    "    # check how far we're into the list\n",
    "    print repo.full_name\n",
    "    \n",
    "    if repo.full_name not in repos_ds:\n",
    "        repos_ds[repo.full_name] = {'repo':repo, 'repo_id': repo.id, 'full_name': repo.full_name, 'name': repo.name, \n",
    "                                    'created': repo.created_at, 'fork': repo.fork, 'owner_id': repo.owner.id, \n",
    "                                    'forked_from':None, 'url':repo.html_url, 'stargazers':repo.stargazers_count, \n",
    "                                    'watchers':repo.subscribers_count, 'forks':repo.forks_count, \n",
    "                                    'description':repo.description, 'language':repo.language, \n",
    "                                    'time_requested':datetime.now()}\n",
    "    else:\n",
    "        pass\n",
    "    \n",
    "    for fork in repo.get_forks():\n",
    "        \n",
    "        # delay time to get back the 5000 request limit per hour\n",
    "        if g.get_rate_limit().rate.remaining < 2:\n",
    "            print 'Going to pause for an hour now'\n",
    "            time.sleep(3600)\n",
    "    \n",
    "        if fork.full_name not in repos_ds:\n",
    "            repos_ds[fork.full_name] = {'repo':fork, 'repo_id': fork.id, 'full_name': fork.full_name, \n",
    "                                        'name': fork.name, 'created': fork.created_at, 'fork': fork.fork, \n",
    "                                        'owner_id': fork.owner.id, 'forked_from':repo.id, 'url':fork.html_url, \n",
    "                                        'stargazers':fork.stargazers_count, 'watchers':fork.subscribers_count, \n",
    "                                        'forks':fork.forks_count, 'description':fork.description, \n",
    "                                        'language':fork.language, 'time_requested':datetime.now()}\n",
    "        else:\n",
    "            pass"
   ]
  },
  {
   "cell_type": "code",
   "execution_count": 4,
   "metadata": {
    "collapsed": false,
    "deletable": true,
    "editable": true
   },
   "outputs": [
    {
     "data": {
      "text/html": [
       "<div>\n",
       "<table border=\"1\" class=\"dataframe\">\n",
       "  <thead>\n",
       "    <tr style=\"text-align: right;\">\n",
       "      <th></th>\n",
       "      <th>created</th>\n",
       "      <th>description</th>\n",
       "      <th>fork</th>\n",
       "      <th>forked_from</th>\n",
       "      <th>forks</th>\n",
       "      <th>full_name</th>\n",
       "      <th>language</th>\n",
       "      <th>name</th>\n",
       "      <th>owner_id</th>\n",
       "      <th>repo</th>\n",
       "      <th>repo_id</th>\n",
       "      <th>stargazers</th>\n",
       "      <th>time_requested</th>\n",
       "      <th>url</th>\n",
       "      <th>watchers</th>\n",
       "    </tr>\n",
       "  </thead>\n",
       "  <tbody>\n",
       "    <tr>\n",
       "      <th>0</th>\n",
       "      <td>2017-05-11 18:38:08</td>\n",
       "      <td>🛠️⚡ Step-by-step tutorial to build a modern J...</td>\n",
       "      <td>True</td>\n",
       "      <td>69798748.0</td>\n",
       "      <td>0</td>\n",
       "      <td>glongh/js-stack-from-scratch</td>\n",
       "      <td>JavaScript</td>\n",
       "      <td>js-stack-from-scratch</td>\n",
       "      <td>1266111</td>\n",
       "      <td>Repository(full_name=\"glongh/js-stack-from-scr...</td>\n",
       "      <td>91012066</td>\n",
       "      <td>0</td>\n",
       "      <td>2017-05-14 18:16:41.037042</td>\n",
       "      <td>https://github.com/glongh/js-stack-from-scratch</td>\n",
       "      <td>1</td>\n",
       "    </tr>\n",
       "    <tr>\n",
       "      <th>1</th>\n",
       "      <td>2017-04-10 17:00:42</td>\n",
       "      <td>Implementation of Algorithms and Data Structur...</td>\n",
       "      <td>True</td>\n",
       "      <td>76670734.0</td>\n",
       "      <td>0</td>\n",
       "      <td>EverettZ/AlgoDS</td>\n",
       "      <td>Java</td>\n",
       "      <td>AlgoDS</td>\n",
       "      <td>2085059</td>\n",
       "      <td>Repository(full_name=\"EverettZ/AlgoDS\")</td>\n",
       "      <td>87836112</td>\n",
       "      <td>0</td>\n",
       "      <td>2017-05-14 18:00:19.066756</td>\n",
       "      <td>https://github.com/EverettZ/AlgoDS</td>\n",
       "      <td>1</td>\n",
       "    </tr>\n",
       "    <tr>\n",
       "      <th>2</th>\n",
       "      <td>2016-12-30 13:22:59</td>\n",
       "      <td>A Wysiwyg editor build on top of ReactJS and D...</td>\n",
       "      <td>True</td>\n",
       "      <td>67361765.0</td>\n",
       "      <td>1</td>\n",
       "      <td>SHOFLO/react-draft-wysiwyg</td>\n",
       "      <td>JavaScript</td>\n",
       "      <td>react-draft-wysiwyg</td>\n",
       "      <td>2453842</td>\n",
       "      <td>Repository(full_name=\"SHOFLO/react-draft-wysiw...</td>\n",
       "      <td>77687579</td>\n",
       "      <td>0</td>\n",
       "      <td>2017-05-14 19:07:46.407355</td>\n",
       "      <td>https://github.com/SHOFLO/react-draft-wysiwyg</td>\n",
       "      <td>6</td>\n",
       "    </tr>\n",
       "    <tr>\n",
       "      <th>3</th>\n",
       "      <td>2016-07-28 19:00:20</td>\n",
       "      <td>Electron App around PokemonGo-Map</td>\n",
       "      <td>True</td>\n",
       "      <td>63730796.0</td>\n",
       "      <td>0</td>\n",
       "      <td>Flapfc/PokemonGo-DesktopMap</td>\n",
       "      <td>Python</td>\n",
       "      <td>PokemonGo-DesktopMap</td>\n",
       "      <td>20688686</td>\n",
       "      <td>Repository(full_name=\"Flapfc/PokemonGo-Desktop...</td>\n",
       "      <td>64420851</td>\n",
       "      <td>0</td>\n",
       "      <td>2017-05-14 19:05:07.357477</td>\n",
       "      <td>https://github.com/Flapfc/PokemonGo-DesktopMap</td>\n",
       "      <td>0</td>\n",
       "    </tr>\n",
       "    <tr>\n",
       "      <th>4</th>\n",
       "      <td>2016-05-24 15:43:51</td>\n",
       "      <td>Spectre.css - a lightweight, responsive and mo...</td>\n",
       "      <td>True</td>\n",
       "      <td>53321815.0</td>\n",
       "      <td>0</td>\n",
       "      <td>hawkapparel/spectre</td>\n",
       "      <td>HTML</td>\n",
       "      <td>spectre</td>\n",
       "      <td>8813795</td>\n",
       "      <td>Repository(full_name=\"hawkapparel/spectre\")</td>\n",
       "      <td>59586443</td>\n",
       "      <td>0</td>\n",
       "      <td>2017-05-15 01:01:40.864103</td>\n",
       "      <td>https://github.com/hawkapparel/spectre</td>\n",
       "      <td>1</td>\n",
       "    </tr>\n",
       "  </tbody>\n",
       "</table>\n",
       "</div>"
      ],
      "text/plain": [
       "              created                                        description  \\\n",
       "0 2017-05-11 18:38:08  🛠️⚡ Step-by-step tutorial to build a modern J...   \n",
       "1 2017-04-10 17:00:42  Implementation of Algorithms and Data Structur...   \n",
       "2 2016-12-30 13:22:59  A Wysiwyg editor build on top of ReactJS and D...   \n",
       "3 2016-07-28 19:00:20                  Electron App around PokemonGo-Map   \n",
       "4 2016-05-24 15:43:51  Spectre.css - a lightweight, responsive and mo...   \n",
       "\n",
       "   fork  forked_from  forks                     full_name    language  \\\n",
       "0  True   69798748.0      0  glongh/js-stack-from-scratch  JavaScript   \n",
       "1  True   76670734.0      0               EverettZ/AlgoDS        Java   \n",
       "2  True   67361765.0      1    SHOFLO/react-draft-wysiwyg  JavaScript   \n",
       "3  True   63730796.0      0   Flapfc/PokemonGo-DesktopMap      Python   \n",
       "4  True   53321815.0      0           hawkapparel/spectre        HTML   \n",
       "\n",
       "                    name  owner_id  \\\n",
       "0  js-stack-from-scratch   1266111   \n",
       "1                 AlgoDS   2085059   \n",
       "2    react-draft-wysiwyg   2453842   \n",
       "3   PokemonGo-DesktopMap  20688686   \n",
       "4                spectre   8813795   \n",
       "\n",
       "                                                repo   repo_id  stargazers  \\\n",
       "0  Repository(full_name=\"glongh/js-stack-from-scr...  91012066           0   \n",
       "1            Repository(full_name=\"EverettZ/AlgoDS\")  87836112           0   \n",
       "2  Repository(full_name=\"SHOFLO/react-draft-wysiw...  77687579           0   \n",
       "3  Repository(full_name=\"Flapfc/PokemonGo-Desktop...  64420851           0   \n",
       "4        Repository(full_name=\"hawkapparel/spectre\")  59586443           0   \n",
       "\n",
       "              time_requested                                              url  \\\n",
       "0 2017-05-14 18:16:41.037042  https://github.com/glongh/js-stack-from-scratch   \n",
       "1 2017-05-14 18:00:19.066756               https://github.com/EverettZ/AlgoDS   \n",
       "2 2017-05-14 19:07:46.407355    https://github.com/SHOFLO/react-draft-wysiwyg   \n",
       "3 2017-05-14 19:05:07.357477   https://github.com/Flapfc/PokemonGo-DesktopMap   \n",
       "4 2017-05-15 01:01:40.864103           https://github.com/hawkapparel/spectre   \n",
       "\n",
       "   watchers  \n",
       "0         1  \n",
       "1         1  \n",
       "2         6  \n",
       "3         0  \n",
       "4         1  "
      ]
     },
     "execution_count": 4,
     "metadata": {},
     "output_type": "execute_result"
    }
   ],
   "source": [
    "repos_table.head()"
   ]
  },
  {
   "cell_type": "code",
   "execution_count": 233,
   "metadata": {
    "collapsed": true,
    "deletable": true,
    "editable": true
   },
   "outputs": [],
   "source": [
    "# save the repo data for reference\n",
    "# pickle.dump( repos_ds, open( \"repos_ds.p\", \"wb\" ) )"
   ]
  },
  {
   "cell_type": "markdown",
   "metadata": {
    "deletable": true,
    "editable": true
   },
   "source": [
    "### Accidentally added a couple of repos not in English; Remove\n",
    "(geeeeeeeeek/electronic-wechat)  \n",
    "(smallnest/rpcx)  \n",
    "(ashqal/MD360Player4iOS)  \n",
    "\n",
    "Noticed this while requesting repo data, specifically the issue events are not in English"
   ]
  },
  {
   "cell_type": "code",
   "execution_count": 2,
   "metadata": {
    "collapsed": false,
    "deletable": true,
    "editable": true
   },
   "outputs": [],
   "source": [
    "repos_ds = pickle.load( open( \"repos_ds.p\", \"rb\" ) )\n",
    "repos_table = pd.DataFrame(repos_ds.values())"
   ]
  },
  {
   "cell_type": "code",
   "execution_count": 3,
   "metadata": {
    "collapsed": false,
    "deletable": true,
    "editable": true
   },
   "outputs": [
    {
     "data": {
      "text/html": [
       "<div>\n",
       "<table border=\"1\" class=\"dataframe\">\n",
       "  <thead>\n",
       "    <tr style=\"text-align: right;\">\n",
       "      <th></th>\n",
       "      <th>created</th>\n",
       "      <th>description</th>\n",
       "      <th>fork</th>\n",
       "      <th>forked_from</th>\n",
       "      <th>forks</th>\n",
       "      <th>full_name</th>\n",
       "      <th>language</th>\n",
       "      <th>name</th>\n",
       "      <th>owner_id</th>\n",
       "      <th>repo</th>\n",
       "      <th>repo_id</th>\n",
       "      <th>stargazers</th>\n",
       "      <th>time_requested</th>\n",
       "      <th>url</th>\n",
       "      <th>watchers</th>\n",
       "    </tr>\n",
       "  </thead>\n",
       "  <tbody>\n",
       "    <tr>\n",
       "      <th>1321</th>\n",
       "      <td>2016-05-18 09:34:05</td>\n",
       "      <td>A RPC service framework based on net/rpc like ...</td>\n",
       "      <td>False</td>\n",
       "      <td>NaN</td>\n",
       "      <td>196</td>\n",
       "      <td>smallnest/rpcx</td>\n",
       "      <td>Go</td>\n",
       "      <td>rpcx</td>\n",
       "      <td>865763</td>\n",
       "      <td>Repository(full_name=\"smallnest/rpcx\")</td>\n",
       "      <td>59101986</td>\n",
       "      <td>1051</td>\n",
       "      <td>2017-05-14 20:22:11.810506</td>\n",
       "      <td>https://github.com/smallnest/rpcx</td>\n",
       "      <td>124</td>\n",
       "    </tr>\n",
       "    <tr>\n",
       "      <th>8068</th>\n",
       "      <td>2016-02-18 09:09:53</td>\n",
       "      <td>:speech_balloon: A better WeChat on macOS and ...</td>\n",
       "      <td>False</td>\n",
       "      <td>NaN</td>\n",
       "      <td>1208</td>\n",
       "      <td>geeeeeeeeek/electronic-wechat</td>\n",
       "      <td>JavaScript</td>\n",
       "      <td>electronic-wechat</td>\n",
       "      <td>7262715</td>\n",
       "      <td>Repository(full_name=\"geeeeeeeeek/electronic-w...</td>\n",
       "      <td>51994692</td>\n",
       "      <td>6996</td>\n",
       "      <td>2017-05-14 19:53:35.968902</td>\n",
       "      <td>https://github.com/geeeeeeeeek/electronic-wechat</td>\n",
       "      <td>369</td>\n",
       "    </tr>\n",
       "    <tr>\n",
       "      <th>20001</th>\n",
       "      <td>2016-04-13 16:49:27</td>\n",
       "      <td>It is a lite library to render 360 degree pano...</td>\n",
       "      <td>False</td>\n",
       "      <td>NaN</td>\n",
       "      <td>154</td>\n",
       "      <td>ashqal/MD360Player4iOS</td>\n",
       "      <td>Objective-C</td>\n",
       "      <td>MD360Player4iOS</td>\n",
       "      <td>5126517</td>\n",
       "      <td>Repository(full_name=\"ashqal/MD360Player4iOS\")</td>\n",
       "      <td>56169643</td>\n",
       "      <td>583</td>\n",
       "      <td>2017-05-14 18:04:55.539736</td>\n",
       "      <td>https://github.com/ashqal/MD360Player4iOS</td>\n",
       "      <td>48</td>\n",
       "    </tr>\n",
       "  </tbody>\n",
       "</table>\n",
       "</div>"
      ],
      "text/plain": [
       "                  created                                        description  \\\n",
       "1321  2016-05-18 09:34:05  A RPC service framework based on net/rpc like ...   \n",
       "8068  2016-02-18 09:09:53  :speech_balloon: A better WeChat on macOS and ...   \n",
       "20001 2016-04-13 16:49:27  It is a lite library to render 360 degree pano...   \n",
       "\n",
       "        fork  forked_from  forks                      full_name     language  \\\n",
       "1321   False          NaN    196                 smallnest/rpcx           Go   \n",
       "8068   False          NaN   1208  geeeeeeeeek/electronic-wechat   JavaScript   \n",
       "20001  False          NaN    154         ashqal/MD360Player4iOS  Objective-C   \n",
       "\n",
       "                    name  owner_id  \\\n",
       "1321                rpcx    865763   \n",
       "8068   electronic-wechat   7262715   \n",
       "20001    MD360Player4iOS   5126517   \n",
       "\n",
       "                                                    repo   repo_id  \\\n",
       "1321              Repository(full_name=\"smallnest/rpcx\")  59101986   \n",
       "8068   Repository(full_name=\"geeeeeeeeek/electronic-w...  51994692   \n",
       "20001     Repository(full_name=\"ashqal/MD360Player4iOS\")  56169643   \n",
       "\n",
       "       stargazers             time_requested  \\\n",
       "1321         1051 2017-05-14 20:22:11.810506   \n",
       "8068         6996 2017-05-14 19:53:35.968902   \n",
       "20001         583 2017-05-14 18:04:55.539736   \n",
       "\n",
       "                                                    url  watchers  \n",
       "1321                  https://github.com/smallnest/rpcx       124  \n",
       "8068   https://github.com/geeeeeeeeek/electronic-wechat       369  \n",
       "20001         https://github.com/ashqal/MD360Player4iOS        48  "
      ]
     },
     "execution_count": 3,
     "metadata": {},
     "output_type": "execute_result"
    }
   ],
   "source": [
    "rep1 = repos_table['full_name'] == 'geeeeeeeeek/electronic-wechat'\n",
    "rep2 = repos_table['full_name'] == 'smallnest/rpcx'\n",
    "rep3 = repos_table['full_name'] == 'ashqal/MD360Player4iOS'\n",
    "\n",
    "repos_table[rep1 | rep2 | rep3]"
   ]
  },
  {
   "cell_type": "code",
   "execution_count": 5,
   "metadata": {
    "collapsed": false,
    "deletable": true,
    "editable": true
   },
   "outputs": [],
   "source": [
    "cond1 = repos_table['repo_id'] == 51994692\n",
    "cond2 = repos_table['forked_from'] == 51994692\n",
    "\n",
    "cond3 = repos_table['repo_id'] == 59101986\n",
    "cond4 = repos_table['forked_from'] == 59101986\n",
    "\n",
    "cond5 = repos_table['repo_id'] == 56169643\n",
    "cond6 = repos_table['forked_from'] == 56169643\n",
    "\n",
    "repos_table = repos_table[~cond1 & ~cond2 & ~cond3 & ~cond4 & ~cond5 & ~cond6]"
   ]
  },
  {
   "cell_type": "code",
   "execution_count": 6,
   "metadata": {
    "collapsed": false
   },
   "outputs": [
    {
     "data": {
      "text/plain": [
       "(23851, 15)"
      ]
     },
     "execution_count": 6,
     "metadata": {},
     "output_type": "execute_result"
    }
   ],
   "source": [
    "repos_table.shape"
   ]
  },
  {
   "cell_type": "markdown",
   "metadata": {
    "deletable": true,
    "editable": true
   },
   "source": [
    "### Output a csv for using in BigQuery to retrieve all events for all repos"
   ]
  },
  {
   "cell_type": "code",
   "execution_count": 8,
   "metadata": {
    "collapsed": false,
    "deletable": true,
    "editable": true
   },
   "outputs": [],
   "source": [
    "# repos_output = repos_table[['full_name', 'repo_id']]\n",
    "# repos_output.to_csv('repos_table.csv', index=False)"
   ]
  },
  {
   "cell_type": "markdown",
   "metadata": {
    "deletable": true,
    "editable": true
   },
   "source": [
    "### Formatting repos data frame in a cleaner mode"
   ]
  },
  {
   "cell_type": "code",
   "execution_count": 7,
   "metadata": {
    "collapsed": false,
    "deletable": true,
    "editable": true
   },
   "outputs": [],
   "source": [
    "# cant have a python class in SQL DB\n",
    "repos_table = repos_table.drop('repo', axis=1)\n",
    "\n",
    "# forked_from gives same result\n",
    "repos_table = repos_table.drop('fork', axis=1)\n",
    "\n",
    "# change to ascii characters\n",
    "repos_table['description'] = repos_table['description'].str.encode('ascii', 'ignore')"
   ]
  },
  {
   "cell_type": "code",
   "execution_count": 8,
   "metadata": {
    "collapsed": true,
    "deletable": true,
    "editable": true
   },
   "outputs": [],
   "source": [
    "# change names of some columns\n",
    "repos_table = repos_table.rename(columns={'time_requested':'requested_at', 'forks':'fork_count',\n",
    "                                         'stargazers':'stargazers_count', 'watchers':'watchers_count',\n",
    "                                         'created': 'created_at'})\n",
    "\n",
    "# reorder DF and sort index\n",
    "reorder_cols = ['repo_id', 'owner_id', 'forked_from', 'created_at', 'requested_at',\n",
    "               'url', 'name', 'full_name', 'description', 'language', 'fork_count', 'watchers_count',\n",
    "               'stargazers_count']\n",
    "\n",
    "repos_table = repos_table[reorder_cols]"
   ]
  },
  {
   "cell_type": "code",
   "execution_count": 9,
   "metadata": {
    "collapsed": false,
    "deletable": true,
    "editable": true
   },
   "outputs": [
    {
     "data": {
      "text/html": [
       "<div>\n",
       "<table border=\"1\" class=\"dataframe\">\n",
       "  <thead>\n",
       "    <tr style=\"text-align: right;\">\n",
       "      <th></th>\n",
       "      <th>repo_id</th>\n",
       "      <th>owner_id</th>\n",
       "      <th>forked_from</th>\n",
       "      <th>created_at</th>\n",
       "      <th>requested_at</th>\n",
       "      <th>url</th>\n",
       "      <th>name</th>\n",
       "      <th>full_name</th>\n",
       "      <th>description</th>\n",
       "      <th>language</th>\n",
       "      <th>fork_count</th>\n",
       "      <th>watchers_count</th>\n",
       "      <th>stargazers_count</th>\n",
       "    </tr>\n",
       "  </thead>\n",
       "  <tbody>\n",
       "    <tr>\n",
       "      <th>0</th>\n",
       "      <td>91012066</td>\n",
       "      <td>1266111</td>\n",
       "      <td>69798748.0</td>\n",
       "      <td>2017-05-11 18:38:08</td>\n",
       "      <td>2017-05-14 18:16:41.037042</td>\n",
       "      <td>https://github.com/glongh/js-stack-from-scratch</td>\n",
       "      <td>js-stack-from-scratch</td>\n",
       "      <td>glongh/js-stack-from-scratch</td>\n",
       "      <td>Step-by-step tutorial to build a modern JavaS...</td>\n",
       "      <td>JavaScript</td>\n",
       "      <td>0</td>\n",
       "      <td>1</td>\n",
       "      <td>0</td>\n",
       "    </tr>\n",
       "    <tr>\n",
       "      <th>1</th>\n",
       "      <td>87836112</td>\n",
       "      <td>2085059</td>\n",
       "      <td>76670734.0</td>\n",
       "      <td>2017-04-10 17:00:42</td>\n",
       "      <td>2017-05-14 18:00:19.066756</td>\n",
       "      <td>https://github.com/EverettZ/AlgoDS</td>\n",
       "      <td>AlgoDS</td>\n",
       "      <td>EverettZ/AlgoDS</td>\n",
       "      <td>Implementation of Algorithms and Data Structur...</td>\n",
       "      <td>Java</td>\n",
       "      <td>0</td>\n",
       "      <td>1</td>\n",
       "      <td>0</td>\n",
       "    </tr>\n",
       "    <tr>\n",
       "      <th>2</th>\n",
       "      <td>77687579</td>\n",
       "      <td>2453842</td>\n",
       "      <td>67361765.0</td>\n",
       "      <td>2016-12-30 13:22:59</td>\n",
       "      <td>2017-05-14 19:07:46.407355</td>\n",
       "      <td>https://github.com/SHOFLO/react-draft-wysiwyg</td>\n",
       "      <td>react-draft-wysiwyg</td>\n",
       "      <td>SHOFLO/react-draft-wysiwyg</td>\n",
       "      <td>A Wysiwyg editor build on top of ReactJS and D...</td>\n",
       "      <td>JavaScript</td>\n",
       "      <td>1</td>\n",
       "      <td>6</td>\n",
       "      <td>0</td>\n",
       "    </tr>\n",
       "    <tr>\n",
       "      <th>3</th>\n",
       "      <td>64420851</td>\n",
       "      <td>20688686</td>\n",
       "      <td>63730796.0</td>\n",
       "      <td>2016-07-28 19:00:20</td>\n",
       "      <td>2017-05-14 19:05:07.357477</td>\n",
       "      <td>https://github.com/Flapfc/PokemonGo-DesktopMap</td>\n",
       "      <td>PokemonGo-DesktopMap</td>\n",
       "      <td>Flapfc/PokemonGo-DesktopMap</td>\n",
       "      <td>Electron App around PokemonGo-Map</td>\n",
       "      <td>Python</td>\n",
       "      <td>0</td>\n",
       "      <td>0</td>\n",
       "      <td>0</td>\n",
       "    </tr>\n",
       "    <tr>\n",
       "      <th>4</th>\n",
       "      <td>59586443</td>\n",
       "      <td>8813795</td>\n",
       "      <td>53321815.0</td>\n",
       "      <td>2016-05-24 15:43:51</td>\n",
       "      <td>2017-05-15 01:01:40.864103</td>\n",
       "      <td>https://github.com/hawkapparel/spectre</td>\n",
       "      <td>spectre</td>\n",
       "      <td>hawkapparel/spectre</td>\n",
       "      <td>Spectre.css - a lightweight, responsive and mo...</td>\n",
       "      <td>HTML</td>\n",
       "      <td>0</td>\n",
       "      <td>1</td>\n",
       "      <td>0</td>\n",
       "    </tr>\n",
       "  </tbody>\n",
       "</table>\n",
       "</div>"
      ],
      "text/plain": [
       "    repo_id  owner_id  forked_from          created_at  \\\n",
       "0  91012066   1266111   69798748.0 2017-05-11 18:38:08   \n",
       "1  87836112   2085059   76670734.0 2017-04-10 17:00:42   \n",
       "2  77687579   2453842   67361765.0 2016-12-30 13:22:59   \n",
       "3  64420851  20688686   63730796.0 2016-07-28 19:00:20   \n",
       "4  59586443   8813795   53321815.0 2016-05-24 15:43:51   \n",
       "\n",
       "                requested_at                                              url  \\\n",
       "0 2017-05-14 18:16:41.037042  https://github.com/glongh/js-stack-from-scratch   \n",
       "1 2017-05-14 18:00:19.066756               https://github.com/EverettZ/AlgoDS   \n",
       "2 2017-05-14 19:07:46.407355    https://github.com/SHOFLO/react-draft-wysiwyg   \n",
       "3 2017-05-14 19:05:07.357477   https://github.com/Flapfc/PokemonGo-DesktopMap   \n",
       "4 2017-05-15 01:01:40.864103           https://github.com/hawkapparel/spectre   \n",
       "\n",
       "                    name                     full_name  \\\n",
       "0  js-stack-from-scratch  glongh/js-stack-from-scratch   \n",
       "1                 AlgoDS               EverettZ/AlgoDS   \n",
       "2    react-draft-wysiwyg    SHOFLO/react-draft-wysiwyg   \n",
       "3   PokemonGo-DesktopMap   Flapfc/PokemonGo-DesktopMap   \n",
       "4                spectre           hawkapparel/spectre   \n",
       "\n",
       "                                         description    language  fork_count  \\\n",
       "0   Step-by-step tutorial to build a modern JavaS...  JavaScript           0   \n",
       "1  Implementation of Algorithms and Data Structur...        Java           0   \n",
       "2  A Wysiwyg editor build on top of ReactJS and D...  JavaScript           1   \n",
       "3                  Electron App around PokemonGo-Map      Python           0   \n",
       "4  Spectre.css - a lightweight, responsive and mo...        HTML           0   \n",
       "\n",
       "   watchers_count  stargazers_count  \n",
       "0               1                 0  \n",
       "1               1                 0  \n",
       "2               6                 0  \n",
       "3               0                 0  \n",
       "4               1                 0  "
      ]
     },
     "execution_count": 9,
     "metadata": {},
     "output_type": "execute_result"
    }
   ],
   "source": [
    "repos_table.head()"
   ]
  },
  {
   "cell_type": "markdown",
   "metadata": {
    "deletable": true,
    "editable": true
   },
   "source": [
    "## Requesting contributors for all repos that are to date"
   ]
  },
  {
   "cell_type": "code",
   "execution_count": 5,
   "metadata": {
    "collapsed": true,
    "deletable": true,
    "editable": true
   },
   "outputs": [],
   "source": [
    "# all the repos to loop over\n",
    "repos_ids = repos_table['repo'].tolist()\n",
    "\n",
    "# contributors_ds = {}\n",
    "contributors_ds = pickle.load( open( \"contributors_ds.p\", \"rb\" ) )\n",
    "\n",
    "# repos where we could not get info from\n",
    "L_badrepos = []"
   ]
  },
  {
   "cell_type": "code",
   "execution_count": null,
   "metadata": {
    "collapsed": false,
    "deletable": true,
    "editable": true,
    "scrolled": true
   },
   "outputs": [],
   "source": [
    "count = 0\n",
    "\n",
    "for repo in repos_ids:    \n",
    "    count += 1\n",
    "    print count\n",
    "    \n",
    "    # some forked repos may not exist anymore\n",
    "    try:\n",
    "        for user in repo.get_contributors():\n",
    "            \n",
    "            key = (repo.id, user.id)\n",
    "            \n",
    "            if g.get_rate_limit().rate.remaining < 2:\n",
    "                print 'Going to pause for 30 mins'\n",
    "                time.sleep(1800)\n",
    "\n",
    "            if key not in contributors_ds:\n",
    "                contributors_ds[key] = {'user_id':user.id, 'login':user.login, \n",
    "                                         'repo_id':repo.id, 'requested_at':datetime.now()}\n",
    "            else:\n",
    "                pass\n",
    "    except:\n",
    "        L_badrepos.append(repo)"
   ]
  },
  {
   "cell_type": "code",
   "execution_count": 11,
   "metadata": {
    "collapsed": true,
    "deletable": true,
    "editable": true
   },
   "outputs": [],
   "source": [
    "# save the contributors data structure for reference\n",
    "# pickle.dump( contributors_ds, open( \"contributors_ds.p\", \"wb\" ) )"
   ]
  },
  {
   "cell_type": "markdown",
   "metadata": {},
   "source": [
    "### Reading in contributors data structure"
   ]
  },
  {
   "cell_type": "code",
   "execution_count": 10,
   "metadata": {
    "collapsed": false,
    "deletable": true,
    "editable": true
   },
   "outputs": [
    {
     "name": "stdout",
     "output_type": "stream",
     "text": [
      "301692\n"
     ]
    },
    {
     "data": {
      "text/html": [
       "<div>\n",
       "<table border=\"1\" class=\"dataframe\">\n",
       "  <thead>\n",
       "    <tr style=\"text-align: right;\">\n",
       "      <th></th>\n",
       "      <th>login</th>\n",
       "      <th>repo_id</th>\n",
       "      <th>requested_at</th>\n",
       "      <th>user_id</th>\n",
       "    </tr>\n",
       "  </thead>\n",
       "  <tbody>\n",
       "    <tr>\n",
       "      <th>0</th>\n",
       "      <td>ralphite</td>\n",
       "      <td>87380276</td>\n",
       "      <td>2017-05-18 09:12:47.088095</td>\n",
       "      <td>3046804</td>\n",
       "    </tr>\n",
       "    <tr>\n",
       "      <th>1</th>\n",
       "      <td>DaveVoyles</td>\n",
       "      <td>78902398</td>\n",
       "      <td>2017-05-17 11:37:55.193568</td>\n",
       "      <td>1786053</td>\n",
       "    </tr>\n",
       "    <tr>\n",
       "      <th>2</th>\n",
       "      <td>meain</td>\n",
       "      <td>82225757</td>\n",
       "      <td>2017-05-18 04:29:37.883319</td>\n",
       "      <td>14259816</td>\n",
       "    </tr>\n",
       "    <tr>\n",
       "      <th>3</th>\n",
       "      <td>pguth</td>\n",
       "      <td>73213893</td>\n",
       "      <td>2017-05-17 22:20:47.311123</td>\n",
       "      <td>85259</td>\n",
       "    </tr>\n",
       "    <tr>\n",
       "      <th>4</th>\n",
       "      <td>jsarafajr</td>\n",
       "      <td>73811823</td>\n",
       "      <td>2017-05-17 20:16:48.401585</td>\n",
       "      <td>4338228</td>\n",
       "    </tr>\n",
       "  </tbody>\n",
       "</table>\n",
       "</div>"
      ],
      "text/plain": [
       "        login   repo_id               requested_at   user_id\n",
       "0    ralphite  87380276 2017-05-18 09:12:47.088095   3046804\n",
       "1  DaveVoyles  78902398 2017-05-17 11:37:55.193568   1786053\n",
       "2       meain  82225757 2017-05-18 04:29:37.883319  14259816\n",
       "3       pguth  73213893 2017-05-17 22:20:47.311123     85259\n",
       "4   jsarafajr  73811823 2017-05-17 20:16:48.401585   4338228"
      ]
     },
     "execution_count": 10,
     "metadata": {},
     "output_type": "execute_result"
    }
   ],
   "source": [
    "repos_ids = repos_table['repo_id'].tolist()\n",
    "\n",
    "contributors_ds = pickle.load( open( \"contributors_ds.p\", \"rb\" ) )\n",
    "\n",
    "contributors_table = pd.DataFrame(contributors_ds.values())\n",
    "print len(contributors_table)\n",
    "contributors_table.head()"
   ]
  },
  {
   "cell_type": "code",
   "execution_count": 13,
   "metadata": {
    "collapsed": false
   },
   "outputs": [],
   "source": [
    "# get all the correct repo ids\n",
    "contributors_table = contributors_table[contributors_table.repo_id.isin(repos_ids)]"
   ]
  },
  {
   "cell_type": "markdown",
   "metadata": {
    "deletable": true,
    "editable": true
   },
   "source": [
    "### Formatting contributors data frame in a cleaner mode"
   ]
  },
  {
   "cell_type": "code",
   "execution_count": 14,
   "metadata": {
    "collapsed": true,
    "deletable": true,
    "editable": true
   },
   "outputs": [],
   "source": [
    "# change names of some columns\n",
    "contributors_table = contributors_table.rename(columns={'user_id':'contributor_id'})\n",
    "\n",
    "# reorder DF and sort index\n",
    "reorder_cols = ['repo_id', 'contributor_id', 'login', 'requested_at']\n",
    "\n",
    "contributors_table = contributors_table[reorder_cols]"
   ]
  },
  {
   "cell_type": "code",
   "execution_count": 15,
   "metadata": {
    "collapsed": false,
    "deletable": true,
    "editable": true
   },
   "outputs": [
    {
     "data": {
      "text/html": [
       "<div>\n",
       "<table border=\"1\" class=\"dataframe\">\n",
       "  <thead>\n",
       "    <tr style=\"text-align: right;\">\n",
       "      <th></th>\n",
       "      <th>repo_id</th>\n",
       "      <th>contributor_id</th>\n",
       "      <th>login</th>\n",
       "      <th>requested_at</th>\n",
       "    </tr>\n",
       "  </thead>\n",
       "  <tbody>\n",
       "    <tr>\n",
       "      <th>0</th>\n",
       "      <td>87380276</td>\n",
       "      <td>3046804</td>\n",
       "      <td>ralphite</td>\n",
       "      <td>2017-05-18 09:12:47.088095</td>\n",
       "    </tr>\n",
       "    <tr>\n",
       "      <th>1</th>\n",
       "      <td>78902398</td>\n",
       "      <td>1786053</td>\n",
       "      <td>DaveVoyles</td>\n",
       "      <td>2017-05-17 11:37:55.193568</td>\n",
       "    </tr>\n",
       "    <tr>\n",
       "      <th>2</th>\n",
       "      <td>82225757</td>\n",
       "      <td>14259816</td>\n",
       "      <td>meain</td>\n",
       "      <td>2017-05-18 04:29:37.883319</td>\n",
       "    </tr>\n",
       "    <tr>\n",
       "      <th>3</th>\n",
       "      <td>73213893</td>\n",
       "      <td>85259</td>\n",
       "      <td>pguth</td>\n",
       "      <td>2017-05-17 22:20:47.311123</td>\n",
       "    </tr>\n",
       "    <tr>\n",
       "      <th>4</th>\n",
       "      <td>73811823</td>\n",
       "      <td>4338228</td>\n",
       "      <td>jsarafajr</td>\n",
       "      <td>2017-05-17 20:16:48.401585</td>\n",
       "    </tr>\n",
       "  </tbody>\n",
       "</table>\n",
       "</div>"
      ],
      "text/plain": [
       "    repo_id  contributor_id       login               requested_at\n",
       "0  87380276         3046804    ralphite 2017-05-18 09:12:47.088095\n",
       "1  78902398         1786053  DaveVoyles 2017-05-17 11:37:55.193568\n",
       "2  82225757        14259816       meain 2017-05-18 04:29:37.883319\n",
       "3  73213893           85259       pguth 2017-05-17 22:20:47.311123\n",
       "4  73811823         4338228   jsarafajr 2017-05-17 20:16:48.401585"
      ]
     },
     "execution_count": 15,
     "metadata": {},
     "output_type": "execute_result"
    }
   ],
   "source": [
    "contributors_table.head()"
   ]
  },
  {
   "cell_type": "markdown",
   "metadata": {
    "deletable": true,
    "editable": true
   },
   "source": [
    "## Inserting repo and contributors table into a database"
   ]
  },
  {
   "cell_type": "code",
   "execution_count": 17,
   "metadata": {
    "collapsed": false
   },
   "outputs": [
    {
     "data": {
      "text/html": [
       "<div>\n",
       "<table border=\"1\" class=\"dataframe\">\n",
       "  <thead>\n",
       "    <tr style=\"text-align: right;\">\n",
       "      <th></th>\n",
       "      <th>repo_id</th>\n",
       "      <th>owner_id</th>\n",
       "      <th>forked_from</th>\n",
       "      <th>created_at</th>\n",
       "      <th>requested_at</th>\n",
       "      <th>url</th>\n",
       "      <th>name</th>\n",
       "      <th>full_name</th>\n",
       "      <th>description</th>\n",
       "      <th>language</th>\n",
       "      <th>fork_count</th>\n",
       "      <th>watchers_count</th>\n",
       "      <th>stargazers_count</th>\n",
       "    </tr>\n",
       "  </thead>\n",
       "  <tbody>\n",
       "    <tr>\n",
       "      <th>0</th>\n",
       "      <td>91012066</td>\n",
       "      <td>1266111</td>\n",
       "      <td>69798748.0</td>\n",
       "      <td>2017-05-11 18:38:08</td>\n",
       "      <td>2017-05-14 18:16:41.037042</td>\n",
       "      <td>https://github.com/glongh/js-stack-from-scratch</td>\n",
       "      <td>js-stack-from-scratch</td>\n",
       "      <td>glongh/js-stack-from-scratch</td>\n",
       "      <td>Step-by-step tutorial to build a modern JavaS...</td>\n",
       "      <td>JavaScript</td>\n",
       "      <td>0</td>\n",
       "      <td>1</td>\n",
       "      <td>0</td>\n",
       "    </tr>\n",
       "    <tr>\n",
       "      <th>1</th>\n",
       "      <td>87836112</td>\n",
       "      <td>2085059</td>\n",
       "      <td>76670734.0</td>\n",
       "      <td>2017-04-10 17:00:42</td>\n",
       "      <td>2017-05-14 18:00:19.066756</td>\n",
       "      <td>https://github.com/EverettZ/AlgoDS</td>\n",
       "      <td>AlgoDS</td>\n",
       "      <td>EverettZ/AlgoDS</td>\n",
       "      <td>Implementation of Algorithms and Data Structur...</td>\n",
       "      <td>Java</td>\n",
       "      <td>0</td>\n",
       "      <td>1</td>\n",
       "      <td>0</td>\n",
       "    </tr>\n",
       "    <tr>\n",
       "      <th>2</th>\n",
       "      <td>77687579</td>\n",
       "      <td>2453842</td>\n",
       "      <td>67361765.0</td>\n",
       "      <td>2016-12-30 13:22:59</td>\n",
       "      <td>2017-05-14 19:07:46.407355</td>\n",
       "      <td>https://github.com/SHOFLO/react-draft-wysiwyg</td>\n",
       "      <td>react-draft-wysiwyg</td>\n",
       "      <td>SHOFLO/react-draft-wysiwyg</td>\n",
       "      <td>A Wysiwyg editor build on top of ReactJS and D...</td>\n",
       "      <td>JavaScript</td>\n",
       "      <td>1</td>\n",
       "      <td>6</td>\n",
       "      <td>0</td>\n",
       "    </tr>\n",
       "    <tr>\n",
       "      <th>3</th>\n",
       "      <td>64420851</td>\n",
       "      <td>20688686</td>\n",
       "      <td>63730796.0</td>\n",
       "      <td>2016-07-28 19:00:20</td>\n",
       "      <td>2017-05-14 19:05:07.357477</td>\n",
       "      <td>https://github.com/Flapfc/PokemonGo-DesktopMap</td>\n",
       "      <td>PokemonGo-DesktopMap</td>\n",
       "      <td>Flapfc/PokemonGo-DesktopMap</td>\n",
       "      <td>Electron App around PokemonGo-Map</td>\n",
       "      <td>Python</td>\n",
       "      <td>0</td>\n",
       "      <td>0</td>\n",
       "      <td>0</td>\n",
       "    </tr>\n",
       "    <tr>\n",
       "      <th>4</th>\n",
       "      <td>59586443</td>\n",
       "      <td>8813795</td>\n",
       "      <td>53321815.0</td>\n",
       "      <td>2016-05-24 15:43:51</td>\n",
       "      <td>2017-05-15 01:01:40.864103</td>\n",
       "      <td>https://github.com/hawkapparel/spectre</td>\n",
       "      <td>spectre</td>\n",
       "      <td>hawkapparel/spectre</td>\n",
       "      <td>Spectre.css - a lightweight, responsive and mo...</td>\n",
       "      <td>HTML</td>\n",
       "      <td>0</td>\n",
       "      <td>1</td>\n",
       "      <td>0</td>\n",
       "    </tr>\n",
       "  </tbody>\n",
       "</table>\n",
       "</div>"
      ],
      "text/plain": [
       "    repo_id  owner_id  forked_from          created_at  \\\n",
       "0  91012066   1266111   69798748.0 2017-05-11 18:38:08   \n",
       "1  87836112   2085059   76670734.0 2017-04-10 17:00:42   \n",
       "2  77687579   2453842   67361765.0 2016-12-30 13:22:59   \n",
       "3  64420851  20688686   63730796.0 2016-07-28 19:00:20   \n",
       "4  59586443   8813795   53321815.0 2016-05-24 15:43:51   \n",
       "\n",
       "                requested_at                                              url  \\\n",
       "0 2017-05-14 18:16:41.037042  https://github.com/glongh/js-stack-from-scratch   \n",
       "1 2017-05-14 18:00:19.066756               https://github.com/EverettZ/AlgoDS   \n",
       "2 2017-05-14 19:07:46.407355    https://github.com/SHOFLO/react-draft-wysiwyg   \n",
       "3 2017-05-14 19:05:07.357477   https://github.com/Flapfc/PokemonGo-DesktopMap   \n",
       "4 2017-05-15 01:01:40.864103           https://github.com/hawkapparel/spectre   \n",
       "\n",
       "                    name                     full_name  \\\n",
       "0  js-stack-from-scratch  glongh/js-stack-from-scratch   \n",
       "1                 AlgoDS               EverettZ/AlgoDS   \n",
       "2    react-draft-wysiwyg    SHOFLO/react-draft-wysiwyg   \n",
       "3   PokemonGo-DesktopMap   Flapfc/PokemonGo-DesktopMap   \n",
       "4                spectre           hawkapparel/spectre   \n",
       "\n",
       "                                         description    language  fork_count  \\\n",
       "0   Step-by-step tutorial to build a modern JavaS...  JavaScript           0   \n",
       "1  Implementation of Algorithms and Data Structur...        Java           0   \n",
       "2  A Wysiwyg editor build on top of ReactJS and D...  JavaScript           1   \n",
       "3                  Electron App around PokemonGo-Map      Python           0   \n",
       "4  Spectre.css - a lightweight, responsive and mo...        HTML           0   \n",
       "\n",
       "   watchers_count  stargazers_count  \n",
       "0               1                 0  \n",
       "1               1                 0  \n",
       "2               6                 0  \n",
       "3               0                 0  \n",
       "4               1                 0  "
      ]
     },
     "execution_count": 17,
     "metadata": {},
     "output_type": "execute_result"
    }
   ],
   "source": [
    "repos_table.head()"
   ]
  },
  {
   "cell_type": "code",
   "execution_count": 18,
   "metadata": {
    "collapsed": true
   },
   "outputs": [],
   "source": [
    "repos_cols = ['repo_id', 'owner_id', 'forked_from', 'fork_count', 'watchers_count', 'stargazers_count']\n",
    "repos_table[repos_cols] = repos_table[repos_cols].applymap(pd.to_numeric)"
   ]
  },
  {
   "cell_type": "code",
   "execution_count": 16,
   "metadata": {
    "collapsed": false
   },
   "outputs": [
    {
     "data": {
      "text/html": [
       "<div>\n",
       "<table border=\"1\" class=\"dataframe\">\n",
       "  <thead>\n",
       "    <tr style=\"text-align: right;\">\n",
       "      <th></th>\n",
       "      <th>repo_id</th>\n",
       "      <th>contributor_id</th>\n",
       "      <th>login</th>\n",
       "      <th>requested_at</th>\n",
       "    </tr>\n",
       "  </thead>\n",
       "  <tbody>\n",
       "    <tr>\n",
       "      <th>0</th>\n",
       "      <td>87380276</td>\n",
       "      <td>3046804</td>\n",
       "      <td>ralphite</td>\n",
       "      <td>2017-05-18 09:12:47.088095</td>\n",
       "    </tr>\n",
       "    <tr>\n",
       "      <th>1</th>\n",
       "      <td>78902398</td>\n",
       "      <td>1786053</td>\n",
       "      <td>DaveVoyles</td>\n",
       "      <td>2017-05-17 11:37:55.193568</td>\n",
       "    </tr>\n",
       "    <tr>\n",
       "      <th>2</th>\n",
       "      <td>82225757</td>\n",
       "      <td>14259816</td>\n",
       "      <td>meain</td>\n",
       "      <td>2017-05-18 04:29:37.883319</td>\n",
       "    </tr>\n",
       "    <tr>\n",
       "      <th>3</th>\n",
       "      <td>73213893</td>\n",
       "      <td>85259</td>\n",
       "      <td>pguth</td>\n",
       "      <td>2017-05-17 22:20:47.311123</td>\n",
       "    </tr>\n",
       "    <tr>\n",
       "      <th>4</th>\n",
       "      <td>73811823</td>\n",
       "      <td>4338228</td>\n",
       "      <td>jsarafajr</td>\n",
       "      <td>2017-05-17 20:16:48.401585</td>\n",
       "    </tr>\n",
       "  </tbody>\n",
       "</table>\n",
       "</div>"
      ],
      "text/plain": [
       "    repo_id  contributor_id       login               requested_at\n",
       "0  87380276         3046804    ralphite 2017-05-18 09:12:47.088095\n",
       "1  78902398         1786053  DaveVoyles 2017-05-17 11:37:55.193568\n",
       "2  82225757        14259816       meain 2017-05-18 04:29:37.883319\n",
       "3  73213893           85259       pguth 2017-05-17 22:20:47.311123\n",
       "4  73811823         4338228   jsarafajr 2017-05-17 20:16:48.401585"
      ]
     },
     "execution_count": 16,
     "metadata": {},
     "output_type": "execute_result"
    }
   ],
   "source": [
    "contributors_table.head()"
   ]
  },
  {
   "cell_type": "code",
   "execution_count": 20,
   "metadata": {
    "collapsed": false
   },
   "outputs": [],
   "source": [
    "contributors_cols = ['repo_id', 'contributor_id']\n",
    "contributors_table[contributors_cols] = contributors_table[contributors_cols].applymap(pd.to_numeric)"
   ]
  },
  {
   "cell_type": "code",
   "execution_count": 21,
   "metadata": {
    "collapsed": false,
    "deletable": true,
    "editable": true
   },
   "outputs": [],
   "source": [
    "# create a SQLite DB\n",
    "con = sql.connect('github.db')\n",
    "c = con.cursor()"
   ]
  },
  {
   "cell_type": "code",
   "execution_count": 22,
   "metadata": {
    "collapsed": false,
    "deletable": true,
    "editable": true
   },
   "outputs": [],
   "source": [
    "create_repos_table = '''\n",
    "CREATE TABLE repos (\n",
    "    repo_id          NUMERIC      NOT NULL,\n",
    "    owner_id         NUMERIC      NOT NULL,\n",
    "    forked_from      NUMERIC,\n",
    "    created_at       TEXT         NOT NULL,\n",
    "    requested_at     TEXT         NOT NULL,\n",
    "    url              VARCHAR (60) NOT NULL,\n",
    "    name             VARCHAR (40) NOT NULL,\n",
    "    full_name        VARCHAR (50) NOT NULL,\n",
    "    description      TEXT,\n",
    "    language         VARCHAR (40),\n",
    "    fork_count       INT,\n",
    "    watchers_count   INT,\n",
    "    stargazers_count INT,\n",
    "    PRIMARY KEY (\n",
    "        repo_id,\n",
    "        owner_id\n",
    "    )\n",
    ")\n",
    "WITHOUT ROWID;'''\n",
    "\n",
    "create_contributors_table = '''\n",
    "CREATE TABLE contributors (\n",
    "    repo_id        NUMERIC      NOT NULL,\n",
    "    contributor_id NUMERIC      NOT NULL,\n",
    "    login          VARCHAR (40) NOT NULL,\n",
    "    requested_at   TEXT         NOT NULL,\n",
    "    PRIMARY KEY (\n",
    "        repo_id,\n",
    "        contributor_id\n",
    "    )\n",
    ")\n",
    "WITHOUT ROWID;'''"
   ]
  },
  {
   "cell_type": "code",
   "execution_count": 23,
   "metadata": {
    "collapsed": false,
    "deletable": true,
    "editable": true
   },
   "outputs": [],
   "source": [
    "c.execute(create_repos_table)\n",
    "c.execute(create_contributors_table)\n",
    "con.commit()"
   ]
  },
  {
   "cell_type": "code",
   "execution_count": 24,
   "metadata": {
    "collapsed": false,
    "deletable": true,
    "editable": true,
    "scrolled": true
   },
   "outputs": [],
   "source": [
    "repos_table.to_sql(name='repos', con=con, if_exists='append', index=False)\n",
    "contributors_table.to_sql(name='contributors', con=con, if_exists='append', index=False)\n",
    "con.close()"
   ]
  },
  {
   "cell_type": "code",
   "execution_count": null,
   "metadata": {
    "collapsed": true
   },
   "outputs": [],
   "source": []
  }
 ],
 "metadata": {
  "anaconda-cloud": {},
  "kernelspec": {
   "display_name": "Python [conda env:py27]",
   "language": "python",
   "name": "conda-env-py27-py"
  },
  "language_info": {
   "codemirror_mode": {
    "name": "ipython",
    "version": 2
   },
   "file_extension": ".py",
   "mimetype": "text/x-python",
   "name": "python",
   "nbconvert_exporter": "python",
   "pygments_lexer": "ipython2",
   "version": "2.7.13"
  }
 },
 "nbformat": 4,
 "nbformat_minor": 1
}
