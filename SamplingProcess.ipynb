{
 "cells": [
  {
   "cell_type": "markdown",
   "metadata": {},
   "source": [
    "# GitHub Repo Selection Process"
   ]
  },
  {
   "cell_type": "code",
   "execution_count": 38,
   "metadata": {
    "collapsed": true
   },
   "outputs": [],
   "source": [
    "import pandas as pd\n",
    "import random\n",
    "from github import Github\n",
    "import pickle\n",
    "import sqlite3 as sql\n",
    "\n",
    "g = Github('nicholas-alonzo', '')"
   ]
  },
  {
   "cell_type": "markdown",
   "metadata": {},
   "source": [
    "## Repo Conditions\n",
    "\n",
    "Sample 10 repos with the following conditions\n",
    "\n",
    "- Is not by an organization\n",
    "- Created on 2016-01-01 and/or later\n",
    "- Is in English\n",
    "- Has no activity before 2016-01-01 (manually check their activity on GitHub)\n",
    "- Has at least 5 contributors to date\n",
    "- Has between 75 and 100 forks to date\n",
    "- Is at least a megabyte in size\n",
    "- Has at least 100 stars to date\n",
    "- Has at least 10 open issues to date\n",
    "- A push occured sometime after 2016-12-31"
   ]
  },
  {
   "cell_type": "code",
   "execution_count": 2,
   "metadata": {
    "collapsed": true
   },
   "outputs": [],
   "source": [
    "# THIS WAS RUN MAY 7TH 2017 ~ 2:00 AM PST\n",
    "repos = g.search_repositories(query='created:>=2016-01-01 forks:75..100 size:>=1000 stars:>=100')\n",
    "reposL = list(repos)\n",
    "\n",
    "repos_subL = []\n",
    "\n",
    "for repo in reposL:\n",
    "    user_count = 0\n",
    "    cond1 = repo.organization\n",
    "    cond2 = repo.open_issues_count >= 10\n",
    "    cond3 = repo.pushed_at >= pd.to_datetime('2016-12-31')\n",
    "    if not cond1 and cond2 and cond3:\n",
    "        for user in repo.get_contributors():\n",
    "            user_count += 1\n",
    "            if user_count >= 5:\n",
    "                repos_subL.append(repo)\n",
    "                break\n",
    "            else:\n",
    "                pass\n",
    "    else:\n",
    "        pass"
   ]
  },
  {
   "cell_type": "markdown",
   "metadata": {},
   "source": [
    "### Save the potential repos "
   ]
  },
  {
   "cell_type": "code",
   "execution_count": 6,
   "metadata": {
    "collapsed": false
   },
   "outputs": [],
   "source": [
    "# pickle.dump( repos_subL, open( \"repos.p\", \"wb\" ) )\n",
    "\n",
    "L = pickle.load( open( \"repos.p\", \"rb\" ) )"
   ]
  },
  {
   "cell_type": "markdown",
   "metadata": {},
   "source": [
    "## Sample 10 repos\n",
    "\n",
    "Here we'll have to check maunally that the repos\n",
    "- are in English\n",
    "- have no activity before 2016-01-01"
   ]
  },
  {
   "cell_type": "code",
   "execution_count": 10,
   "metadata": {
    "collapsed": false
   },
   "outputs": [
    {
     "data": {
      "text/plain": [
       "[Repository(full_name=\"diegohaz/arc\"),\n",
       " Repository(full_name=\"timusus/RecyclerView-FastScroll\"),\n",
       " Repository(full_name=\"mikeal/roll-call\"),\n",
       " Repository(full_name=\"tidusjar/Ombi\"),\n",
       " Repository(full_name=\"JimBobSquarePants/ImageSharp\"),\n",
       " Repository(full_name=\"Wilfred/remacs\"),\n",
       " Repository(full_name=\"TheOfficialFloW/VitaShell\"),\n",
       " Repository(full_name=\"scop/bash-completion\"),\n",
       " Repository(full_name=\"andrew-worsfold/tailor\"),\n",
       " Repository(full_name=\"krzysztofzablocki/Sourcery\")]"
      ]
     },
     "execution_count": 10,
     "metadata": {},
     "output_type": "execute_result"
    }
   ],
   "source": [
    "random.seed(32824)\n",
    "random.sample(L, 10)"
   ]
  },
  {
   "cell_type": "markdown",
   "metadata": {},
   "source": [
    "- diegohaz/arc\n",
    "- timusus/RecyclerView-FastScroll\n",
    "- mikeal/roll-call\n",
    "- tidusjar/Ombi\n",
    "- TheOfficialFloW/VitaShell\n",
    "- andrew-worsfold/tailor\n",
    "- krzysztofzablocki/Sourcery"
   ]
  },
  {
   "cell_type": "code",
   "execution_count": 4,
   "metadata": {
    "collapsed": false
   },
   "outputs": [
    {
     "data": {
      "text/plain": [
       "[Repository(full_name=\"nolanlawson/optimize-js\"),\n",
       " Repository(full_name=\"MoyanZitto/keras-cn\"),\n",
       " Repository(full_name=\"jshjohnson/Choices\")]"
      ]
     },
     "execution_count": 4,
     "metadata": {},
     "output_type": "execute_result"
    }
   ],
   "source": [
    "random.sample(L, 3)"
   ]
  },
  {
   "cell_type": "markdown",
   "metadata": {},
   "source": [
    "- nolanlawson/optimize-js\n",
    "- jshjohnson/Choices"
   ]
  },
  {
   "cell_type": "code",
   "execution_count": 5,
   "metadata": {
    "collapsed": false
   },
   "outputs": [
    {
     "data": {
      "text/plain": [
       "[Repository(full_name=\"BrandonJoffe/home_surveillance\")]"
      ]
     },
     "execution_count": 5,
     "metadata": {},
     "output_type": "execute_result"
    }
   ],
   "source": [
    "random.sample(L, 1)"
   ]
  },
  {
   "cell_type": "markdown",
   "metadata": {},
   "source": [
    "The final repos with the following conditions are\n",
    "\n",
    "- diegohaz/arc\n",
    "- timusus/RecyclerView-FastScroll\n",
    "- mikeal/roll-call\n",
    "- tidusjar/Ombi\n",
    "- TheOfficialFloW/VitaShell\n",
    "- andrew-worsfold/tailor\n",
    "- krzysztofzablocki/Sourcery\n",
    "- nolanlawson/optimize-js\n",
    "- jshjohnson/Choices"
   ]
  },
  {
   "cell_type": "markdown",
   "metadata": {},
   "source": [
    "## Selecting the root repo and their forks "
   ]
  },
  {
   "cell_type": "code",
   "execution_count": 90,
   "metadata": {
    "collapsed": false
   },
   "outputs": [
    {
     "data": {
      "text/plain": [
       "[Repository(full_name=\"nolanlawson/optimize-js\"),\n",
       " Repository(full_name=\"krzysztofzablocki/Sourcery\"),\n",
       " Repository(full_name=\"jshjohnson/Choices\"),\n",
       " Repository(full_name=\"mikeal/roll-call\"),\n",
       " Repository(full_name=\"diegohaz/arc\"),\n",
       " Repository(full_name=\"andrew-worsfold/tailor\"),\n",
       " Repository(full_name=\"timusus/RecyclerView-FastScroll\"),\n",
       " Repository(full_name=\"tidusjar/Ombi\"),\n",
       " Repository(full_name=\"TheOfficialFloW/VitaShell\"),\n",
       " Repository(full_name=\"BrandonJoffe/home_surveillance\")]"
      ]
     },
     "execution_count": 90,
     "metadata": {},
     "output_type": "execute_result"
    }
   ],
   "source": [
    "final_repos = ['diegohaz/arc', 'timusus/RecyclerView-FastScroll', 'mikeal/roll-call', 'tidusjar/Ombi',\n",
    "              'TheOfficialFloW/VitaShell', 'andrew-worsfold/tailor', 'krzysztofzablocki/Sourcery',\n",
    "              'nolanlawson/optimize-js', 'jshjohnson/Choices', 'BrandonJoffe/home_surveillance']\n",
    "\n",
    "root_repos = []\n",
    "for repo in L:\n",
    "    if repo.full_name in final_repos:\n",
    "        root_repos.append(repo)\n",
    "\n",
    "root_repos"
   ]
  },
  {
   "cell_type": "code",
   "execution_count": 99,
   "metadata": {
    "collapsed": false
   },
   "outputs": [],
   "source": [
    "repos = {}\n",
    "for repo in root_repos:\n",
    "    repos[repo] = {'repo_id': repo.id, 'full_name': repo.full_name,\n",
    "                   'name': repo.name, 'created': repo.created_at,\n",
    "                   'fork': repo.fork, 'owner_id': repo.owner.id, 'forked_from':None}\n",
    "    \n",
    "    for fork in repo.get_forks():\n",
    "        repos[fork] = {'repo_id': fork.id, 'full_name': fork.full_name,\n",
    "                       'name': fork.name, 'created': fork.created_at,\n",
    "                       'fork': fork.fork, 'owner_id': fork.owner.id, 'forked_from':repo.id}"
   ]
  },
  {
   "cell_type": "code",
   "execution_count": 101,
   "metadata": {
    "collapsed": false
   },
   "outputs": [
    {
     "name": "stdout",
     "output_type": "stream",
     "text": [
      "857\n"
     ]
    },
    {
     "data": {
      "text/html": [
       "<div>\n",
       "<table border=\"1\" class=\"dataframe\">\n",
       "  <thead>\n",
       "    <tr style=\"text-align: right;\">\n",
       "      <th></th>\n",
       "      <th>created</th>\n",
       "      <th>fork</th>\n",
       "      <th>forked_from</th>\n",
       "      <th>full_name</th>\n",
       "      <th>name</th>\n",
       "      <th>owner_id</th>\n",
       "      <th>repo_id</th>\n",
       "    </tr>\n",
       "  </thead>\n",
       "  <tbody>\n",
       "    <tr>\n",
       "      <th>0</th>\n",
       "      <td>2016-08-01 01:56:29</td>\n",
       "      <td>True</td>\n",
       "      <td>53949203.0</td>\n",
       "      <td>thedang/Choices</td>\n",
       "      <td>Choices</td>\n",
       "      <td>8512497</td>\n",
       "      <td>64627212</td>\n",
       "    </tr>\n",
       "    <tr>\n",
       "      <th>1</th>\n",
       "      <td>2016-10-18 13:34:50</td>\n",
       "      <td>True</td>\n",
       "      <td>65116637.0</td>\n",
       "      <td>Widea/roll-call</td>\n",
       "      <td>roll-call</td>\n",
       "      <td>1750248</td>\n",
       "      <td>71251692</td>\n",
       "    </tr>\n",
       "    <tr>\n",
       "      <th>2</th>\n",
       "      <td>2017-02-19 06:40:59</td>\n",
       "      <td>True</td>\n",
       "      <td>64702298.0</td>\n",
       "      <td>tskarthikeyann/home_surveillance</td>\n",
       "      <td>home_surveillance</td>\n",
       "      <td>8179433</td>\n",
       "      <td>82440697</td>\n",
       "    </tr>\n",
       "    <tr>\n",
       "      <th>3</th>\n",
       "      <td>2016-08-19 00:33:16</td>\n",
       "      <td>True</td>\n",
       "      <td>53949203.0</td>\n",
       "      <td>warplat/Choices</td>\n",
       "      <td>Choices</td>\n",
       "      <td>9009452</td>\n",
       "      <td>66039958</td>\n",
       "    </tr>\n",
       "    <tr>\n",
       "      <th>4</th>\n",
       "      <td>2017-04-03 21:26:01</td>\n",
       "      <td>True</td>\n",
       "      <td>64702298.0</td>\n",
       "      <td>baalsaawe/home_surveillance</td>\n",
       "      <td>home_surveillance</td>\n",
       "      <td>13794487</td>\n",
       "      <td>87122397</td>\n",
       "    </tr>\n",
       "  </tbody>\n",
       "</table>\n",
       "</div>"
      ],
      "text/plain": [
       "              created  fork  forked_from                         full_name  \\\n",
       "0 2016-08-01 01:56:29  True   53949203.0                   thedang/Choices   \n",
       "1 2016-10-18 13:34:50  True   65116637.0                   Widea/roll-call   \n",
       "2 2017-02-19 06:40:59  True   64702298.0  tskarthikeyann/home_surveillance   \n",
       "3 2016-08-19 00:33:16  True   53949203.0                   warplat/Choices   \n",
       "4 2017-04-03 21:26:01  True   64702298.0       baalsaawe/home_surveillance   \n",
       "\n",
       "                name  owner_id   repo_id  \n",
       "0            Choices   8512497  64627212  \n",
       "1          roll-call   1750248  71251692  \n",
       "2  home_surveillance   8179433  82440697  \n",
       "3            Choices   9009452  66039958  \n",
       "4  home_surveillance  13794487  87122397  "
      ]
     },
     "execution_count": 101,
     "metadata": {},
     "output_type": "execute_result"
    }
   ],
   "source": [
    "repos_table = pd.DataFrame(repos.values())\n",
    "print len(repos_table)\n",
    "repos_table.head()"
   ]
  },
  {
   "cell_type": "markdown",
   "metadata": {},
   "source": [
    "## Getting the users from repos and their forks"
   ]
  },
  {
   "cell_type": "code",
   "execution_count": 94,
   "metadata": {
    "collapsed": false
   },
   "outputs": [],
   "source": [
    "users = {}\n",
    "for repo in repos.keys():\n",
    "    for user in repo.get_contributors():\n",
    "        users[user] = {'user_id':user.id, 'login':user.login, 'repo_id':repo.id}"
   ]
  },
  {
   "cell_type": "code",
   "execution_count": 95,
   "metadata": {
    "collapsed": false
   },
   "outputs": [
    {
     "name": "stdout",
     "output_type": "stream",
     "text": [
      "7148\n"
     ]
    },
    {
     "data": {
      "text/html": [
       "<div>\n",
       "<table border=\"1\" class=\"dataframe\">\n",
       "  <thead>\n",
       "    <tr style=\"text-align: right;\">\n",
       "      <th></th>\n",
       "      <th>login</th>\n",
       "      <th>repo_id</th>\n",
       "      <th>user_id</th>\n",
       "    </tr>\n",
       "  </thead>\n",
       "  <tbody>\n",
       "    <tr>\n",
       "      <th>0</th>\n",
       "      <td>vknabel</td>\n",
       "      <td>78084667</td>\n",
       "      <td>2100336</td>\n",
       "    </tr>\n",
       "    <tr>\n",
       "      <th>1</th>\n",
       "      <td>nubbel</td>\n",
       "      <td>78084667</td>\n",
       "      <td>118781</td>\n",
       "    </tr>\n",
       "    <tr>\n",
       "      <th>2</th>\n",
       "      <td>FilipZawada</td>\n",
       "      <td>78084667</td>\n",
       "      <td>1159454</td>\n",
       "    </tr>\n",
       "    <tr>\n",
       "      <th>3</th>\n",
       "      <td>timusus</td>\n",
       "      <td>88264079</td>\n",
       "      <td>4422616</td>\n",
       "    </tr>\n",
       "    <tr>\n",
       "      <th>4</th>\n",
       "      <td>wzs</td>\n",
       "      <td>78084667</td>\n",
       "      <td>599145</td>\n",
       "    </tr>\n",
       "  </tbody>\n",
       "</table>\n",
       "</div>"
      ],
      "text/plain": [
       "         login   repo_id  user_id\n",
       "0      vknabel  78084667  2100336\n",
       "1       nubbel  78084667   118781\n",
       "2  FilipZawada  78084667  1159454\n",
       "3      timusus  88264079  4422616\n",
       "4          wzs  78084667   599145"
      ]
     },
     "execution_count": 95,
     "metadata": {},
     "output_type": "execute_result"
    }
   ],
   "source": [
    "contributors_table = pd.DataFrame(users.values())\n",
    "print len(contributors_table)\n",
    "contributors_table.head()"
   ]
  },
  {
   "cell_type": "markdown",
   "metadata": {},
   "source": [
    "### Saving the repo and users data structures"
   ]
  },
  {
   "cell_type": "code",
   "execution_count": 102,
   "metadata": {
    "collapsed": false
   },
   "outputs": [],
   "source": [
    "# pickle.dump( repos, open( \"repos_ds.p\", \"wb\" ) )\n",
    "# pickle.dump( users, open( \"users_ds.p\", \"wb\" ) )"
   ]
  },
  {
   "cell_type": "markdown",
   "metadata": {},
   "source": [
    "## Adding the repo and contributors into a database"
   ]
  },
  {
   "cell_type": "code",
   "execution_count": 103,
   "metadata": {
    "collapsed": false
   },
   "outputs": [],
   "source": [
    "con = sql.connect('github.db')"
   ]
  },
  {
   "cell_type": "code",
   "execution_count": 104,
   "metadata": {
    "collapsed": true
   },
   "outputs": [],
   "source": [
    "repos_table.to_sql(name='repos', con=con, index=False)\n",
    "contributors_table.to_sql(name='users', con=con, index=False)\n",
    "con.close()"
   ]
  },
  {
   "cell_type": "markdown",
   "metadata": {},
   "source": [
    "## Output a csv for using in BigQuery to retrieve all events for all repos"
   ]
  },
  {
   "cell_type": "code",
   "execution_count": 106,
   "metadata": {
    "collapsed": true
   },
   "outputs": [],
   "source": [
    "repos_table.to_csv('repos_table.csv', index=False)"
   ]
  }
 ],
 "metadata": {
  "anaconda-cloud": {},
  "kernelspec": {
   "display_name": "Python [conda env:py27]",
   "language": "python",
   "name": "conda-env-py27-py"
  },
  "language_info": {
   "codemirror_mode": {
    "name": "ipython",
    "version": 2
   },
   "file_extension": ".py",
   "mimetype": "text/x-python",
   "name": "python",
   "nbconvert_exporter": "python",
   "pygments_lexer": "ipython2",
   "version": "2.7.13"
  }
 },
 "nbformat": 4,
 "nbformat_minor": 1
}
