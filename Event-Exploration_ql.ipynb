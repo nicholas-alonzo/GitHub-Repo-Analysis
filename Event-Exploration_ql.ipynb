{
 "cells": [
  {
   "cell_type": "code",
   "execution_count": null,
   "metadata": {
    "collapsed": true
   },
   "outputs": [],
   "source": [
    "import pandas as pd\n",
    "import sqlite3 as sql\n",
    "\n",
    "db = sql.connect('github.db')\n",
    "c = db.cursor()"
   ]
  },
  {
   "cell_type": "code",
   "execution_count": null,
   "metadata": {
    "collapsed": true
   },
   "outputs": [],
   "source": [
    "# This query finds all the issue ids where there was an opening and closing action for the \n",
    "# issue itself. It then inserts the results into a temporary table QUERY1 for later use.\n",
    "# NOTE: \n",
    "# 1. It's likely that some issues will be reopened and then closed again\n",
    "# 2. For some reason not all issues will be in the DB, perhaps due to pre-processing error?\n",
    "\n",
    "QUERY1 = '''\n",
    "CREATE TEMP TABLE QUERY1 AS \n",
    "SELECT issue_id\n",
    "  FROM (\n",
    "           SELECT repo_id,\n",
    "                  issue_id,\n",
    "                  [action]\n",
    "             FROM issues_events\n",
    "            WHERE [action] = 'opened'\n",
    "           UNION\n",
    "           SELECT repo_id,\n",
    "                  issue_id,\n",
    "                  [action]\n",
    "             FROM issues_events\n",
    "            WHERE [action] = 'closed'\n",
    "       )\n",
    "       AS R1\n",
    " WHERE repo_id IN (\n",
    "           SELECT repo_id\n",
    "             FROM repos\n",
    "            WHERE forked_from IS NULL\n",
    "       )\n",
    " GROUP BY repo_id,\n",
    "          issue_id\n",
    "HAVING COUNT( * ) = 2;\n",
    "'''\n",
    "c.execute(QUERY1)"
   ]
  },
  {
   "cell_type": "code",
   "execution_count": null,
   "metadata": {
    "collapsed": true
   },
   "outputs": [],
   "source": [
    "# This query uses the QUERY1 results to select the number of times that issue appeared MOD 2 = 0\n",
    "# and inserts the results into a temporary table QUERY2 for later use. Since the only actions in \n",
    "# this table are 'opened', 'closed', and 'reopened'. MOD 2 = 0 means there was a pair of opening\n",
    "# and closing actions that occured.\n",
    "\n",
    "QUERY2 =  '''\n",
    "CREATE TEMP TABLE QUERY2 AS\n",
    "SELECT issue_id\n",
    "  FROM issues_events\n",
    " WHERE issue_id IN (SELECT issue_id FROM [temp].QUERY1)\n",
    " GROUP BY repo_id,\n",
    "          issue_id\n",
    "HAVING COUNT( * ) % 2 = 0;\n",
    "'''\n",
    "c.execute(QUERY2)"
   ]
  },
  {
   "cell_type": "code",
   "execution_count": null,
   "metadata": {
    "collapsed": true
   },
   "outputs": [],
   "source": [
    "# This query uses the QUERY2 results to select the date the issue was FIRST OPENED and\n",
    "# inserts the results into a temporary table DT_OPENED for later use.\n",
    "\n",
    "DT_OPENED = '''\n",
    "CREATE TEMP TABLE DT_OPENED AS\n",
    "SELECT repo_id,\n",
    "       issue_id,\n",
    "       issue_number,\n",
    "       MIN(date_created) AS exact_date_opened\n",
    "  FROM issues_events\n",
    " WHERE issue_id IN (SELECT issue_id FROM [temp].QUERY2)\n",
    " GROUP BY repo_id,\n",
    "          issue_id,\n",
    "          issue_number;\n",
    "'''\n",
    "c.execute(DT_OPENED)"
   ]
  },
  {
   "cell_type": "code",
   "execution_count": null,
   "metadata": {
    "collapsed": true
   },
   "outputs": [],
   "source": [
    "# This query uses the QUERY2 results to select the date the issue was LAST CLOSED and\n",
    "# inserts the results into a temporary table DT_CLOSED for later use.\n",
    "\n",
    "DT_CLOSED = '''\n",
    "CREATE TEMP TABLE DT_CLOSED AS\n",
    "SELECT repo_id,\n",
    "       issue_id,\n",
    "       issue_number,\n",
    "       MAX(date_created) AS exact_date_closed\n",
    "  FROM issues_events\n",
    " WHERE issue_id IN (SELECT issue_id FROM [temp].QUERY2)\n",
    " GROUP BY repo_id,\n",
    "          issue_id,\n",
    "          issue_number;\n",
    "'''\n",
    "c.execute(DT_CLOSED)"
   ]
  },
  {
   "cell_type": "code",
   "execution_count": null,
   "metadata": {
    "collapsed": true
   },
   "outputs": [],
   "source": [
    "issue_query = '''\n",
    "SELECT o.*, \n",
    "       c.exact_date_closed,\n",
    "       ROUND(ABS(julianday(o.exact_date_opened) - julianday(c.exact_date_closed) ), 2) AS exact_date_diff\n",
    "  FROM [temp].DT_OPENED AS o\n",
    "       LEFT JOIN\n",
    "       [temp].DT_CLOSED AS c ON (o.repo_id = c.repo_id AND \n",
    "                                 o.issue_id = c.issue_id) \n",
    " ORDER BY o.repo_id,\n",
    "          o.issue_number;\n",
    "'''\n",
    "issues = pd.read_sql(issue_query, db)"
   ]
  },
  {
   "cell_type": "code",
   "execution_count": null,
   "metadata": {
    "collapsed": true
   },
   "outputs": [],
   "source": [
    "# Now we can use the issues DataFrame to do parameterized queries to get \n",
    "# the number of forks occuring between the issue periods for each repo.\n",
    "\n",
    "DFs = []\n",
    "for idx, row in issues.iterrows():\n",
    "    \n",
    "    query = '''\n",
    "    SELECT repo_id, issue_id, date_created, comment, user_id, user_login\n",
    "      FROM issue_comment_events\n",
    "     WHERE repo_id = :repo_id AND \n",
    "           issue_id = :issue_id AND\n",
    "           date_created <= :dt_closed;\n",
    "    '''\n",
    "    result = pd.read_sql(query, db, params={'repo_id': row.repo_id,\n",
    "                                            'issue_id': row.issue_id,\n",
    "                                            'dt_closed': row.exact_date_closed})\n",
    "    DFs.append(result)\n",
    "\n",
    "comments = pd.concat(DFs, axis=0, ignore_index=True)"
   ]
  },
  {
   "cell_type": "code",
   "execution_count": null,
   "metadata": {
    "collapsed": true
   },
   "outputs": [],
   "source": [
    "issues_comments = pd.merge(issues, comments, how='inner', on=['repo_id', 'issue_id'])"
   ]
  }
 ],
 "metadata": {
  "anaconda-cloud": {},
  "kernelspec": {
   "display_name": "Python [conda env:py27]",
   "language": "python",
   "name": "conda-env-py27-py"
  },
  "language_info": {
   "codemirror_mode": {
    "name": "ipython",
    "version": 2
   },
   "file_extension": ".py",
   "mimetype": "text/x-python",
   "name": "python",
   "nbconvert_exporter": "python",
   "pygments_lexer": "ipython2",
   "version": "2.7.13"
  }
 },
 "nbformat": 4,
 "nbformat_minor": 1
}
